{
 "cells": [
  {
   "cell_type": "code",
   "execution_count": 31,
   "id": "initial_id",
   "metadata": {
    "collapsed": true,
    "ExecuteTime": {
     "end_time": "2024-05-11T17:52:00.810881300Z",
     "start_time": "2024-05-11T17:52:00.766924Z"
    }
   },
   "outputs": [
    {
     "name": "stdout",
     "output_type": "stream",
     "text": [
      "Python:  sys.version_info(major=3, minor=9, micro=19, releaselevel='final', serial=0)\n",
      "sklearn version:  1.4.1.post1\n",
      "TF version:  2.15.0\n",
      "GPU installed:  True\n",
      "1 Physical GPUs, 1 Logical GPUs\n"
     ]
    }
   ],
   "source": [
    "# Python ≥3.5 is required\n",
    "import sys\n",
    "\n",
    "import keras.datasets.mnist\n",
    "\n",
    "print(\"Python: \", sys.version_info)\n",
    "assert sys.version_info >= (3, 7)\n",
    "\n",
    "# Scikit-Learn ≥0.20 is required\n",
    "import sklearn\n",
    "print(\"sklearn version: \", sklearn.__version__)\n",
    "assert sklearn.__version__ >= \"0.20\"\n",
    "\n",
    "try:\n",
    "    # %tensorflow_version only exists in Colab.\n",
    "    %tensorflow_version 2.x\n",
    "except Exception:\n",
    "    pass\n",
    "\n",
    "try:\n",
    "    # %tensorflow_version only exists in Colab.\n",
    "    %tensorflow_version 2.x\n",
    "    IS_COLAB = True\n",
    "except Exception:\n",
    "    IS_COLAB = False\n",
    "\n",
    "# TensorFlow ≥2.8 is required\n",
    "import tensorflow as tf\n",
    "print(\"TF version: \", tf.__version__)\n",
    "# assert tf.__version__ >= \"2.8\"\n",
    "\n",
    "if not tf.config.list_physical_devices('GPU'):\n",
    "    print(\"No GPU was detected. CNNs can be very slow without a GPU.\")\n",
    "    if IS_COLAB:\n",
    "        print(\"Go to Runtime > Change runtime and select a GPU hardware accelerator.\")\n",
    "\n",
    "# GPU test\n",
    "print(\"GPU installed: \",tf.test.is_built_with_gpu_support())\n",
    "\n",
    "# To prevent \"CUDNN_STATUS_ALLOC_FAILED\" error with GPUs\n",
    "gpus = tf.config.experimental.list_physical_devices('GPU')\n",
    "if gpus:\n",
    "  try:\n",
    "    # Currently, memory growth needs to be the same across GPUs\n",
    "    for gpu in gpus:\n",
    "      tf.config.experimental.set_memory_growth(gpu, True)\n",
    "    logical_gpus = tf.config.experimental.list_logical_devices('GPU')\n",
    "    print(len(gpus), \"Physical GPUs,\", len(logical_gpus), \"Logical GPUs\")\n",
    "  except RuntimeError as e:\n",
    "    # Memory growth must be set before GPUs have been initialized\n",
    "    print(e)\n",
    "\n",
    "# Common imports\n",
    "import numpy as np\n",
    "import os\n",
    "import pandas as pd\n",
    "import tensorflow_datasets as tfds\n",
    "from tensorflow_datasets.core.utils import gcs_utils\n",
    "gcs_utils._is_gcs_disabled = True\n",
    "\n",
    "\n",
    "# to make this notebook's output stable across runs\n",
    "np.random.seed(42)\n",
    "\n",
    "# To plot pretty figures\n",
    "%matplotlib inline\n",
    "import matplotlib as mpl\n",
    "import matplotlib.pyplot as plt\n",
    "mpl.rc('axes', labelsize=14)\n",
    "mpl.rc('xtick', labelsize=12)\n",
    "mpl.rc('ytick', labelsize=12)\n",
    "\n",
    "# Where to save the figures\n",
    "PROJECT_ROOT_DIR = \".\"\n",
    "CHAPTER_ID = \"ann\"\n",
    "IMAGES_PATH = os.path.join(PROJECT_ROOT_DIR, \"images\", CHAPTER_ID)\n",
    "os.makedirs(IMAGES_PATH, exist_ok=True)\n",
    "\n",
    "def save_fig(fig_id, tight_layout=True, fig_extension=\"png\", resolution=300):\n",
    "    path = os.path.join(IMAGES_PATH, fig_id + \".\" + fig_extension)\n",
    "    print(\"Saving figure\", fig_id)\n",
    "    if tight_layout:\n",
    "        plt.tight_layout()\n",
    "    plt.savefig(path, format=fig_extension, dpi=resolution)\n",
    "\n",
    "# Ignore useless warnings (see SciPy issue #5998)\n",
    "import warnings\n",
    "warnings.filterwarnings(action=\"ignore\", message=\"^internal gelsd\")"
   ]
  },
  {
   "cell_type": "code",
   "execution_count": 2,
   "outputs": [],
   "source": [
    "from pathlib import Path\n",
    "\n",
    "IMAGES_PATH = Path() / \"images\" / \"deep\"\n",
    "IMAGES_PATH.mkdir(parents=True, exist_ok=True)\n",
    "\n",
    "def save_fig(fig_id, tight_layout=True, fig_extension=\"png\", resolution=300):\n",
    "    path = IMAGES_PATH / f\"{fig_id}.{fig_extension}\"\n",
    "    if tight_layout:\n",
    "        plt.tight_layout()\n",
    "    savefig = plt.savefig(path, format=fig_extension, dpi=resolution)"
   ],
   "metadata": {
    "collapsed": false,
    "ExecuteTime": {
     "end_time": "2024-05-11T17:22:51.143671700Z",
     "start_time": "2024-05-11T17:22:51.125153800Z"
    }
   },
   "id": "b84aa6dfab0753c4"
  },
  {
   "cell_type": "code",
   "execution_count": 3,
   "outputs": [
    {
     "name": "stdout",
     "output_type": "stream",
     "text": [
      "/bin/bash: warning: setlocale: LC_ALL: cannot change locale (en_US.UTF-8)\r\n",
      "Requirement already satisfied: tfds-nightly in /home/choi-wsl/miniconda3/envs/tf/lib/python3.9/site-packages (4.9.3.dev202311230044)\r\n",
      "Requirement already satisfied: absl-py in /home/choi-wsl/miniconda3/envs/tf/lib/python3.9/site-packages (from tfds-nightly) (2.1.0)\r\n",
      "Requirement already satisfied: click in /home/choi-wsl/miniconda3/envs/tf/lib/python3.9/site-packages (from tfds-nightly) (8.1.7)\r\n",
      "Requirement already satisfied: dm-tree in /home/choi-wsl/miniconda3/envs/tf/lib/python3.9/site-packages (from tfds-nightly) (0.1.8)\r\n",
      "Requirement already satisfied: etils>=0.9.0 in /home/choi-wsl/miniconda3/envs/tf/lib/python3.9/site-packages (from etils[enp,epath,etree]>=0.9.0->tfds-nightly) (1.5.2)\r\n",
      "Requirement already satisfied: numpy in /home/choi-wsl/miniconda3/envs/tf/lib/python3.9/site-packages (from tfds-nightly) (1.26.4)\r\n",
      "Requirement already satisfied: promise in /home/choi-wsl/miniconda3/envs/tf/lib/python3.9/site-packages (from tfds-nightly) (2.3)\r\n",
      "Requirement already satisfied: protobuf>=3.20 in /home/choi-wsl/miniconda3/envs/tf/lib/python3.9/site-packages (from tfds-nightly) (3.20.3)\r\n",
      "Requirement already satisfied: psutil in /home/choi-wsl/miniconda3/envs/tf/lib/python3.9/site-packages (from tfds-nightly) (5.9.8)\r\n",
      "Requirement already satisfied: requests>=2.19.0 in /home/choi-wsl/miniconda3/envs/tf/lib/python3.9/site-packages (from tfds-nightly) (2.31.0)\r\n",
      "Requirement already satisfied: tensorflow-metadata in /home/choi-wsl/miniconda3/envs/tf/lib/python3.9/site-packages (from tfds-nightly) (1.15.0)\r\n",
      "Requirement already satisfied: termcolor in /home/choi-wsl/miniconda3/envs/tf/lib/python3.9/site-packages (from tfds-nightly) (2.4.0)\r\n",
      "Requirement already satisfied: toml in /home/choi-wsl/miniconda3/envs/tf/lib/python3.9/site-packages (from tfds-nightly) (0.10.2)\r\n",
      "Requirement already satisfied: tqdm in /home/choi-wsl/miniconda3/envs/tf/lib/python3.9/site-packages (from tfds-nightly) (4.66.2)\r\n",
      "Requirement already satisfied: wrapt in /home/choi-wsl/miniconda3/envs/tf/lib/python3.9/site-packages (from tfds-nightly) (1.14.1)\r\n",
      "Requirement already satisfied: array-record>=0.5.0 in /home/choi-wsl/miniconda3/envs/tf/lib/python3.9/site-packages (from tfds-nightly) (0.5.1)\r\n",
      "Requirement already satisfied: fsspec in /home/choi-wsl/miniconda3/envs/tf/lib/python3.9/site-packages (from etils[enp,epath,etree]>=0.9.0->tfds-nightly) (2024.3.1)\r\n",
      "Requirement already satisfied: importlib_resources in /home/choi-wsl/miniconda3/envs/tf/lib/python3.9/site-packages (from etils[enp,epath,etree]>=0.9.0->tfds-nightly) (6.4.0)\r\n",
      "Requirement already satisfied: typing_extensions in /home/choi-wsl/miniconda3/envs/tf/lib/python3.9/site-packages (from etils[enp,epath,etree]>=0.9.0->tfds-nightly) (4.11.0)\r\n",
      "Requirement already satisfied: zipp in /home/choi-wsl/miniconda3/envs/tf/lib/python3.9/site-packages (from etils[enp,epath,etree]>=0.9.0->tfds-nightly) (3.17.0)\r\n",
      "Requirement already satisfied: charset-normalizer<4,>=2 in /home/choi-wsl/miniconda3/envs/tf/lib/python3.9/site-packages (from requests>=2.19.0->tfds-nightly) (3.3.2)\r\n",
      "Requirement already satisfied: idna<4,>=2.5 in /home/choi-wsl/miniconda3/envs/tf/lib/python3.9/site-packages (from requests>=2.19.0->tfds-nightly) (3.6)\r\n",
      "Requirement already satisfied: urllib3<3,>=1.21.1 in /home/choi-wsl/miniconda3/envs/tf/lib/python3.9/site-packages (from requests>=2.19.0->tfds-nightly) (2.2.1)\r\n",
      "Requirement already satisfied: certifi>=2017.4.17 in /home/choi-wsl/miniconda3/envs/tf/lib/python3.9/site-packages (from requests>=2.19.0->tfds-nightly) (2024.2.2)\r\n",
      "Requirement already satisfied: six in /home/choi-wsl/miniconda3/envs/tf/lib/python3.9/site-packages (from promise->tfds-nightly) (1.16.0)\r\n"
     ]
    }
   ],
   "source": [
    "! pip install --upgrade tfds-nightly"
   ],
   "metadata": {
    "collapsed": false,
    "ExecuteTime": {
     "end_time": "2024-05-11T17:22:52.847559300Z",
     "start_time": "2024-05-11T17:22:51.131672300Z"
    }
   },
   "id": "43ed73373bc626ff"
  },
  {
   "cell_type": "markdown",
   "source": [
    "## get the data(EMNIST)"
   ],
   "metadata": {
    "collapsed": false
   },
   "id": "1864b631594ebb45"
  },
  {
   "cell_type": "code",
   "execution_count": 4,
   "outputs": [],
   "source": [
    "import tensorflow_datasets as tfds\n",
    "\n",
    "(train_data, valid_data, test_data), info = tfds.load(\"emnist/byclass\", split=[\"train[:80%]\", \"train[80%:]\", \"test\"], as_supervised=True, with_info=True)"
   ],
   "metadata": {
    "collapsed": false,
    "ExecuteTime": {
     "end_time": "2024-05-11T17:22:52.951051900Z",
     "start_time": "2024-05-11T17:22:52.853556600Z"
    }
   },
   "id": "6310befe51c3d605"
  },
  {
   "cell_type": "code",
   "execution_count": 8,
   "outputs": [
    {
     "name": "stdout",
     "output_type": "stream",
     "text": [
      "size of train: 558346\n",
      "size of validation: 139586\n",
      "size of test: 116323\n"
     ]
    }
   ],
   "source": [
    "print(f\"size of train: {train_data.cardinality().numpy()}\")\n",
    "print(f\"size of validation: {valid_data.cardinality().numpy()}\")\n",
    "print(f\"size of test: {test_data.cardinality().numpy()}\")"
   ],
   "metadata": {
    "collapsed": false,
    "ExecuteTime": {
     "end_time": "2024-05-11T17:24:34.085664200Z",
     "start_time": "2024-05-11T17:24:34.027797800Z"
    }
   },
   "id": "a896499231477679"
  },
  {
   "cell_type": "code",
   "execution_count": 15,
   "outputs": [
    {
     "name": "stdout",
     "output_type": "stream",
     "text": [
      "62\n"
     ]
    }
   ],
   "source": [
    "num_class = info.features[\"label\"].num_classes\n",
    "print(num_class)"
   ],
   "metadata": {
    "collapsed": false,
    "ExecuteTime": {
     "end_time": "2024-05-11T17:35:03.696043800Z",
     "start_time": "2024-05-11T17:35:03.673849900Z"
    }
   },
   "id": "13661e255324e738"
  },
  {
   "cell_type": "markdown",
   "source": [
    "## prepare the data"
   ],
   "metadata": {
    "collapsed": false
   },
   "id": "1bdba966404196bc"
  },
  {
   "cell_type": "code",
   "execution_count": 9,
   "outputs": [],
   "source": [
    "def preprocess_lenet5(image, label):\n",
    "    # Resize image to (32, 32, 1)\n",
    "    image = tf.image.resize(image, size=(32, 32))\n",
    "    # Rescale pixel values to [0, 1]\n",
    "    image = tf.cast(image, tf.float64) / 255.0\n",
    "    return image, label"
   ],
   "metadata": {
    "collapsed": false,
    "ExecuteTime": {
     "end_time": "2024-05-11T17:24:43.373688500Z",
     "start_time": "2024-05-11T17:24:43.347968500Z"
    }
   },
   "id": "c1666584c9bd4bf4"
  },
  {
   "cell_type": "code",
   "execution_count": 10,
   "outputs": [],
   "source": [
    "train_data = train_data.map(preprocess_lenet5)\n",
    "valid_data = valid_data.map(preprocess_lenet5)\n",
    "test_data = test_data.map(preprocess_lenet5)"
   ],
   "metadata": {
    "collapsed": false,
    "ExecuteTime": {
     "end_time": "2024-05-11T17:24:43.655758300Z",
     "start_time": "2024-05-11T17:24:43.611737Z"
    }
   },
   "id": "da59cc44506c3914"
  },
  {
   "cell_type": "code",
   "execution_count": 11,
   "outputs": [],
   "source": [
    "# Batch and prefetch the datasets\n",
    "batch_size = 32\n",
    "train_data = train_data.batch(batch_size).prefetch(tf.data.experimental.AUTOTUNE)\n",
    "valid_data = valid_data.batch(batch_size).prefetch(tf.data.experimental.AUTOTUNE)\n",
    "test_data = test_data.batch(batch_size).prefetch(tf.data.experimental.AUTOTUNE)"
   ],
   "metadata": {
    "collapsed": false,
    "ExecuteTime": {
     "end_time": "2024-05-11T17:24:44.231823800Z",
     "start_time": "2024-05-11T17:24:44.212201900Z"
    }
   },
   "id": "a3576c66978b956b"
  },
  {
   "cell_type": "markdown",
   "source": [
    "## train / evaluate lenet5"
   ],
   "metadata": {
    "collapsed": false
   },
   "id": "262ff7a7ad7c0a44"
  },
  {
   "cell_type": "code",
   "execution_count": 27,
   "outputs": [],
   "source": [
    "from tensorflow import keras\n",
    "from keras.models import Sequential\n",
    "from keras.layers import Dense, Conv2D, Flatten, MaxPool2D, AvgPool2D\n",
    "\n",
    "class LeNet(Sequential):\n",
    "    def __init__(self,num_classes):\n",
    "        super().__init__()\n",
    "\n",
    "        self.add(Conv2D(6,5,strides=1,activation='relu',input_shape=(32,32,1),padding='same'))\n",
    "        self.add(AvgPool2D(2,strides=2))\n",
    "        self.add(Conv2D(16,5,strides=1,activation='relu'))\n",
    "        self.add(AvgPool2D(2,strides=2))\n",
    "        self.add(Conv2D(120,5,strides=1,activation='relu'))\n",
    "        self.add(Flatten())\n",
    "        self.add(Dense(84,activation='tanh'))\n",
    "        self.add(Dense(num_classes,activation='softmax'))\n",
    "    \n",
    "        self.compile(optimizer='adam',\n",
    "                     loss='sparse_categorical_crossentropy',\n",
    "                     metrics='accuracy')"
   ],
   "metadata": {
    "collapsed": false,
    "ExecuteTime": {
     "end_time": "2024-05-11T17:46:19.501826100Z",
     "start_time": "2024-05-11T17:46:19.479311400Z"
    }
   },
   "id": "535629a00a10628b"
  },
  {
   "cell_type": "code",
   "execution_count": 28,
   "outputs": [
    {
     "name": "stdout",
     "output_type": "stream",
     "text": [
      "Model: \"le_net_4\"\n",
      "_________________________________________________________________\n",
      " Layer (type)                Output Shape              Param #   \n",
      "=================================================================\n",
      " conv2d_12 (Conv2D)          (None, 32, 32, 6)         156       \n",
      "                                                                 \n",
      " average_pooling2d_8 (Avera  (None, 16, 16, 6)         0         \n",
      " gePooling2D)                                                    \n",
      "                                                                 \n",
      " conv2d_13 (Conv2D)          (None, 12, 12, 16)        2416      \n",
      "                                                                 \n",
      " average_pooling2d_9 (Avera  (None, 6, 6, 16)          0         \n",
      " gePooling2D)                                                    \n",
      "                                                                 \n",
      " conv2d_14 (Conv2D)          (None, 2, 2, 120)         48120     \n",
      "                                                                 \n",
      " flatten_4 (Flatten)         (None, 480)               0         \n",
      "                                                                 \n",
      " dense_8 (Dense)             (None, 84)                40404     \n",
      "                                                                 \n",
      " dense_9 (Dense)             (None, 62)                5270      \n",
      "                                                                 \n",
      "=================================================================\n",
      "Total params: 96366 (376.43 KB)\n",
      "Trainable params: 96366 (376.43 KB)\n",
      "Non-trainable params: 0 (0.00 Byte)\n",
      "_________________________________________________________________\n"
     ]
    }
   ],
   "source": [
    "model = LeNet(num_class)\n",
    "model.summary()"
   ],
   "metadata": {
    "collapsed": false,
    "ExecuteTime": {
     "end_time": "2024-05-11T17:46:19.784211Z",
     "start_time": "2024-05-11T17:46:19.655258Z"
    }
   },
   "id": "7e588f34bfc35849"
  },
  {
   "cell_type": "code",
   "execution_count": 29,
   "outputs": [
    {
     "name": "stdout",
     "output_type": "stream",
     "text": [
      "Epoch 1/3\n",
      "17449/17449 [==============================] - 95s 5ms/step - loss: 0.5302 - accuracy: 0.8201 - val_loss: 0.4206 - val_accuracy: 0.8475\n",
      "Epoch 2/3\n",
      "17449/17449 [==============================] - 92s 5ms/step - loss: 0.4038 - accuracy: 0.8524 - val_loss: 0.4041 - val_accuracy: 0.8516\n",
      "Epoch 3/3\n",
      "17449/17449 [==============================] - 91s 5ms/step - loss: 0.3806 - accuracy: 0.8589 - val_loss: 0.4023 - val_accuracy: 0.8540\n"
     ]
    }
   ],
   "source": [
    "history = model.fit(train_data, epochs=3, validation_data=valid_data, batch_size=128)"
   ],
   "metadata": {
    "collapsed": false,
    "ExecuteTime": {
     "end_time": "2024-05-11T17:50:58.755896100Z",
     "start_time": "2024-05-11T17:46:21.173054800Z"
    }
   },
   "id": "ef40d24129dcda1d"
  },
  {
   "cell_type": "markdown",
   "source": [
    "## evaluate the model"
   ],
   "metadata": {
    "collapsed": false
   },
   "id": "601828932f9656a9"
  },
  {
   "cell_type": "code",
   "execution_count": 30,
   "outputs": [
    {
     "name": "stdout",
     "output_type": "stream",
     "text": [
      "3636/3636 [==============================] - 11s 3ms/step - loss: 0.4044 - accuracy: 0.8529\n"
     ]
    },
    {
     "data": {
      "text/plain": "[0.4044412672519684, 0.8529353737831116]"
     },
     "execution_count": 30,
     "metadata": {},
     "output_type": "execute_result"
    }
   ],
   "source": [
    "model.evaluate(test_data)"
   ],
   "metadata": {
    "collapsed": false,
    "ExecuteTime": {
     "end_time": "2024-05-11T17:51:09.619374400Z",
     "start_time": "2024-05-11T17:50:58.744901200Z"
    }
   },
   "id": "6ee7dcc35ee50f53"
  },
  {
   "cell_type": "markdown",
   "source": [
    "TODO:\n",
    "1. callback 추가(earlystopping 등)\n",
    "2. tensorboard로 model training 시각화(교재 참고) "
   ],
   "metadata": {
    "collapsed": false
   },
   "id": "c280759da67605bf"
  },
  {
   "cell_type": "code",
   "execution_count": null,
   "outputs": [],
   "source": [],
   "metadata": {
    "collapsed": false
   },
   "id": "20d8b632e2f4a8b7"
  }
 ],
 "metadata": {
  "kernelspec": {
   "display_name": "Python 3",
   "language": "python",
   "name": "python3"
  },
  "language_info": {
   "codemirror_mode": {
    "name": "ipython",
    "version": 2
   },
   "file_extension": ".py",
   "mimetype": "text/x-python",
   "name": "python",
   "nbconvert_exporter": "python",
   "pygments_lexer": "ipython2",
   "version": "2.7.6"
  }
 },
 "nbformat": 4,
 "nbformat_minor": 5
}
