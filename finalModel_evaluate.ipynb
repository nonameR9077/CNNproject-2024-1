{
 "cells": [
  {
   "cell_type": "code",
   "execution_count": 1,
   "id": "initial_id",
   "metadata": {
    "collapsed": true,
    "ExecuteTime": {
     "end_time": "2024-06-09T12:43:31.438612700Z",
     "start_time": "2024-06-09T12:43:27.612605200Z"
    }
   },
   "outputs": [
    {
     "name": "stderr",
     "output_type": "stream",
     "text": [
      "2024-06-09 21:43:28.459790: E external/local_xla/xla/stream_executor/cuda/cuda_dnn.cc:9261] Unable to register cuDNN factory: Attempting to register factory for plugin cuDNN when one has already been registered\n",
      "2024-06-09 21:43:28.459850: E external/local_xla/xla/stream_executor/cuda/cuda_fft.cc:607] Unable to register cuFFT factory: Attempting to register factory for plugin cuFFT when one has already been registered\n",
      "2024-06-09 21:43:28.510749: E external/local_xla/xla/stream_executor/cuda/cuda_blas.cc:1515] Unable to register cuBLAS factory: Attempting to register factory for plugin cuBLAS when one has already been registered\n",
      "2024-06-09 21:43:28.611565: I tensorflow/core/platform/cpu_feature_guard.cc:182] This TensorFlow binary is optimized to use available CPU instructions in performance-critical operations.\n",
      "To enable the following instructions: AVX2 FMA, in other operations, rebuild TensorFlow with the appropriate compiler flags.\n",
      "2024-06-09 21:43:29.543855: W tensorflow/compiler/tf2tensorrt/utils/py_utils.cc:38] TF-TRT Warning: Could not find TensorRT\n"
     ]
    },
    {
     "name": "stdout",
     "output_type": "stream",
     "text": [
      "Python:  sys.version_info(major=3, minor=9, micro=19, releaselevel='final', serial=0)\n",
      "sklearn version:  1.4.1.post1\n",
      "TF version:  2.15.0\n"
     ]
    },
    {
     "name": "stderr",
     "output_type": "stream",
     "text": [
      "2024-06-09 21:43:30.656746: I external/local_xla/xla/stream_executor/cuda/cuda_executor.cc:887] could not open file to read NUMA node: /sys/bus/pci/devices/0000:01:00.0/numa_node\n",
      "Your kernel may have been built without NUMA support.\n",
      "2024-06-09 21:43:30.843388: I external/local_xla/xla/stream_executor/cuda/cuda_executor.cc:887] could not open file to read NUMA node: /sys/bus/pci/devices/0000:01:00.0/numa_node\n",
      "Your kernel may have been built without NUMA support.\n",
      "2024-06-09 21:43:30.843434: I external/local_xla/xla/stream_executor/cuda/cuda_executor.cc:887] could not open file to read NUMA node: /sys/bus/pci/devices/0000:01:00.0/numa_node\n",
      "Your kernel may have been built without NUMA support.\n",
      "2024-06-09 21:43:30.846609: I external/local_xla/xla/stream_executor/cuda/cuda_executor.cc:887] could not open file to read NUMA node: /sys/bus/pci/devices/0000:01:00.0/numa_node\n",
      "Your kernel may have been built without NUMA support.\n",
      "2024-06-09 21:43:30.846684: I external/local_xla/xla/stream_executor/cuda/cuda_executor.cc:887] could not open file to read NUMA node: /sys/bus/pci/devices/0000:01:00.0/numa_node\n",
      "Your kernel may have been built without NUMA support.\n",
      "2024-06-09 21:43:30.846703: I external/local_xla/xla/stream_executor/cuda/cuda_executor.cc:887] could not open file to read NUMA node: /sys/bus/pci/devices/0000:01:00.0/numa_node\n",
      "Your kernel may have been built without NUMA support.\n",
      "2024-06-09 21:43:31.014919: I external/local_xla/xla/stream_executor/cuda/cuda_executor.cc:887] could not open file to read NUMA node: /sys/bus/pci/devices/0000:01:00.0/numa_node\n",
      "Your kernel may have been built without NUMA support.\n",
      "2024-06-09 21:43:31.014989: I external/local_xla/xla/stream_executor/cuda/cuda_executor.cc:887] could not open file to read NUMA node: /sys/bus/pci/devices/0000:01:00.0/numa_node\n",
      "Your kernel may have been built without NUMA support.\n",
      "2024-06-09 21:43:31.014995: I tensorflow/core/common_runtime/gpu/gpu_device.cc:2022] Could not identify NUMA node of platform GPU id 0, defaulting to 0.  Your kernel may not have been built with NUMA support.\n",
      "2024-06-09 21:43:31.015022: I external/local_xla/xla/stream_executor/cuda/cuda_executor.cc:887] could not open file to read NUMA node: /sys/bus/pci/devices/0000:01:00.0/numa_node\n",
      "Your kernel may have been built without NUMA support.\n",
      "2024-06-09 21:43:31.015037: I tensorflow/core/common_runtime/gpu/gpu_device.cc:1929] Created device /job:localhost/replica:0/task:0/device:GPU:0 with 5564 MB memory:  -> device: 0, name: NVIDIA GeForce RTX 3070, pci bus id: 0000:01:00.0, compute capability: 8.6\n"
     ]
    },
    {
     "name": "stdout",
     "output_type": "stream",
     "text": [
      "GPU installed:  True\n",
      "1 Physical GPUs, 1 Logical GPUs\n"
     ]
    }
   ],
   "source": [
    "# Python ≥3.5 is required\n",
    "import sys\n",
    "\n",
    "import keras.datasets.mnist\n",
    "\n",
    "print(\"Python: \", sys.version_info)\n",
    "assert sys.version_info >= (3, 7)\n",
    "\n",
    "# Scikit-Learn ≥0.20 is required\n",
    "import sklearn\n",
    "print(\"sklearn version: \", sklearn.__version__)\n",
    "assert sklearn.__version__ >= \"0.20\"\n",
    "\n",
    "try:\n",
    "    # %tensorflow_version only exists in Colab.\n",
    "    %tensorflow_version 2.x\n",
    "except Exception:\n",
    "    pass\n",
    "\n",
    "try:\n",
    "    # %tensorflow_version only exists in Colab.\n",
    "    %tensorflow_version 2.x\n",
    "    IS_COLAB = True\n",
    "except Exception:\n",
    "    IS_COLAB = False\n",
    "\n",
    "# TensorFlow ≥2.8 is required\n",
    "import tensorflow as tf\n",
    "print(\"TF version: \", tf.__version__)\n",
    "# assert tf.__version__ >= \"2.8\"\n",
    "\n",
    "if not tf.config.list_physical_devices('GPU'):\n",
    "    print(\"No GPU was detected. CNNs can be very slow without a GPU.\")\n",
    "    if IS_COLAB:\n",
    "        print(\"Go to Runtime > Change runtime and select a GPU hardware accelerator.\")\n",
    "\n",
    "# GPU test\n",
    "print(\"GPU installed: \",tf.test.is_built_with_gpu_support())\n",
    "\n",
    "# To prevent \"CUDNN_STATUS_ALLOC_FAILED\" error with GPUs\n",
    "gpus = tf.config.experimental.list_physical_devices('GPU')\n",
    "if gpus:\n",
    "  try:\n",
    "    # Currently, memory growth needs to be the same across GPUs\n",
    "    for gpu in gpus:\n",
    "      tf.config.experimental.set_memory_growth(gpu, True)\n",
    "    logical_gpus = tf.config.experimental.list_logical_devices('GPU')\n",
    "    print(len(gpus), \"Physical GPUs,\", len(logical_gpus), \"Logical GPUs\")\n",
    "  except RuntimeError as e:\n",
    "    # Memory growth must be set before GPUs have been initialized\n",
    "    print(e)\n",
    "\n",
    "# Common imports\n",
    "import numpy as np\n",
    "import os\n",
    "import pandas as pd\n",
    "import tensorflow_datasets as tfds\n",
    "from tensorflow_datasets.core.utils import gcs_utils\n",
    "gcs_utils._is_gcs_disabled = True\n",
    "from tensorflow import keras\n",
    "\n",
    "\n",
    "# to make this notebook's output stable across runs\n",
    "np.random.seed(42)\n",
    "\n",
    "# To plot pretty figures\n",
    "%matplotlib inline\n",
    "import matplotlib as mpl\n",
    "import matplotlib.pyplot as plt\n",
    "mpl.rc('axes', labelsize=14)\n",
    "mpl.rc('xtick', labelsize=12)\n",
    "mpl.rc('ytick', labelsize=12)\n",
    "\n",
    "# Where to save the figures\n",
    "PROJECT_ROOT_DIR = \".\"\n",
    "CHAPTER_ID = \"ann\"\n",
    "IMAGES_PATH = os.path.join(PROJECT_ROOT_DIR, \"images\", CHAPTER_ID)\n",
    "os.makedirs(IMAGES_PATH, exist_ok=True)\n",
    "\n",
    "def save_fig(fig_id, tight_layout=True, fig_extension=\"png\", resolution=300):\n",
    "    path = os.path.join(IMAGES_PATH, fig_id + \".\" + fig_extension)\n",
    "    print(\"Saving figure\", fig_id)\n",
    "    if tight_layout:\n",
    "        plt.tight_layout()\n",
    "    plt.savefig(path, format=fig_extension, dpi=resolution)\n",
    "\n",
    "# Ignore useless warnings (see SciPy issue #5998)\n",
    "import warnings\n",
    "warnings.filterwarnings(action=\"ignore\", message=\"^internal gelsd\")"
   ]
  },
  {
   "cell_type": "code",
   "execution_count": 38,
   "outputs": [
    {
     "ename": "NameError",
     "evalue": "name 'nameList' is not defined",
     "output_type": "error",
     "traceback": [
      "\u001B[0;31m---------------------------------------------------------------------------\u001B[0m",
      "\u001B[0;31mNameError\u001B[0m                                 Traceback (most recent call last)",
      "Cell \u001B[0;32mIn[38], line 15\u001B[0m\n\u001B[1;32m     10\u001B[0m     file\u001B[38;5;241m.\u001B[39mclose()\n\u001B[1;32m     12\u001B[0m     \u001B[38;5;28;01mreturn\u001B[39;00m classes\n\u001B[0;32m---> 15\u001B[0m classes_bal \u001B[38;5;241m=\u001B[39m \u001B[43mgetClasses\u001B[49m\u001B[43m(\u001B[49m\u001B[38;5;241;43m0\u001B[39;49m\u001B[43m)\u001B[49m\n\u001B[1;32m     16\u001B[0m classes_class \u001B[38;5;241m=\u001B[39m getClasses(\u001B[38;5;241m1\u001B[39m)\n\u001B[1;32m     17\u001B[0m classes_merge \u001B[38;5;241m=\u001B[39m getClasses(\u001B[38;5;241m2\u001B[39m)\n",
      "Cell \u001B[0;32mIn[38], line 2\u001B[0m, in \u001B[0;36mgetClasses\u001B[0;34m(type)\u001B[0m\n\u001B[1;32m      1\u001B[0m \u001B[38;5;28;01mdef\u001B[39;00m \u001B[38;5;21mgetClasses\u001B[39m(\u001B[38;5;28mtype\u001B[39m):\n\u001B[0;32m----> 2\u001B[0m     file \u001B[38;5;241m=\u001B[39m \u001B[38;5;28mopen\u001B[39m(\u001B[38;5;124m\"\u001B[39m\u001B[38;5;124mdatasets/emnist/emnist-\u001B[39m\u001B[38;5;124m\"\u001B[39m \u001B[38;5;241m+\u001B[39m \u001B[43mnameList\u001B[49m[\u001B[38;5;28mtype\u001B[39m] \u001B[38;5;241m+\u001B[39m \u001B[38;5;124m\"\u001B[39m\u001B[38;5;124m-mapping.txt\u001B[39m\u001B[38;5;124m\"\u001B[39m, \u001B[38;5;124m'\u001B[39m\u001B[38;5;124mr\u001B[39m\u001B[38;5;124m'\u001B[39m)\n\u001B[1;32m      3\u001B[0m     lines \u001B[38;5;241m=\u001B[39m file\u001B[38;5;241m.\u001B[39mreadlines()\n\u001B[1;32m      5\u001B[0m     classes \u001B[38;5;241m=\u001B[39m []\n",
      "\u001B[0;31mNameError\u001B[0m: name 'nameList' is not defined"
     ]
    }
   ],
   "source": [
    "def getClasses(type):\n",
    "    file = open(\"datasets/emnist/emnist-\" + nameList[type] + \"-mapping.txt\", 'r')\n",
    "    lines = file.readlines()\n",
    "\n",
    "    classes = []\n",
    "\n",
    "    for line in lines:\n",
    "        classes.append(chr(int(line.split()[-1])))\n",
    "\n",
    "    file.close()\n",
    "\n",
    "    return classes\n",
    "\n",
    "\n",
    "classes_bal = getClasses(0)\n",
    "classes_class = getClasses(1)\n",
    "classes_merge = getClasses(2)"
   ],
   "metadata": {
    "collapsed": false,
    "ExecuteTime": {
     "end_time": "2024-06-09T18:46:59.725760400Z",
     "start_time": "2024-06-09T18:46:59.697086400Z"
    }
   },
   "id": "835552093d5aed57"
  },
  {
   "cell_type": "markdown",
   "source": [
    "최종적으로 더 나은 결과값을 보여준 resnet50가 선정되었고, 해당 model에 진행된 최적의 parameter를 적용하여 global minimum에 도달할 수 있도록 함."
   ],
   "metadata": {
    "collapsed": false
   },
   "id": "a8b943bfc559d0a2"
  },
  {
   "cell_type": "markdown",
   "source": [
    "적용 내용:\n",
    "- resnet50\n",
    "- activation function: relu / prelu / elu - renet 쪽에서 가장 좋은 결과를 보여준 함수들 \n",
    "- kernel initializer는 크게 영향을 주지 않아 설정하지 않음\n",
    "- callback은 global minimum에 근접할 수 있도록 patience 값을 크게 잡음\n",
    "- 마지막 dense layer에 dropout(0.5) 적용\n",
    "- epoch: 100"
   ],
   "metadata": {
    "collapsed": false
   },
   "id": "fc0afaee71c88cb3"
  },
  {
   "cell_type": "code",
   "execution_count": 6,
   "outputs": [],
   "source": [
    "# dataset\n",
    "\n",
    "import tensorflow_datasets as tfds\n",
    "\n",
    "(train_data, valid_data, test_data), info = tfds.load(\"emnist/byclass\", split=[\"train[:80%]\", \"train[80%:]\", \"test\"], as_supervised=True, with_info=True)"
   ],
   "metadata": {
    "collapsed": false,
    "ExecuteTime": {
     "end_time": "2024-06-09T12:43:44.840164400Z",
     "start_time": "2024-06-09T12:43:44.733286800Z"
    }
   },
   "id": "9777c4c0f6d8d45c"
  },
  {
   "cell_type": "code",
   "execution_count": 7,
   "outputs": [],
   "source": [
    "from tensorflow.keras import layers\n",
    "\n",
    "def preprocess_resnet50(image, label):\n",
    "    # Resize image to (32, 32, 1)\n",
    "    image = tf.image.resize(image, size=(32, 32))\n",
    "    # Convert grayscale to RGB by duplicating the single channel\n",
    "    image = tf.image.grayscale_to_rgb(image)\n",
    "    # Rescale pixel values to [0, 1]\n",
    "    image = tf.cast(image, tf.float64) / 255.0\n",
    "    return image, label\n",
    "\n",
    "# Create a data augmentation stage with horizontal flipping, rotations, zooms\n",
    "data_augmentation = keras.Sequential(\n",
    "    [\n",
    "        layers.RandomFlip(\"horizontal\"),\n",
    "        layers.RandomRotation(0.1),\n",
    "        layers.RandomZoom(0.1),\n",
    "    ]\n",
    ")\n",
    "\n",
    "# 사용하지 않음\n",
    "def preprocess_resnet50_with_aug(image, label):\n",
    "    # Resize image to (32, 32, 1)\n",
    "    image = tf.image.resize(image, size=(32, 32))\n",
    "    # Convert grayscale to RGB by duplicating the single channel\n",
    "    image = tf.image.grayscale_to_rgb(image)\n",
    "    # Apply data augmentation\n",
    "    image = data_augmentation(image)\n",
    "    # Rescale pixel values to [0, 1]\n",
    "    image = tf.cast(image, tf.float64) / 255.0\n",
    "    return image, label"
   ],
   "metadata": {
    "collapsed": false,
    "ExecuteTime": {
     "end_time": "2024-06-09T12:43:46.141395100Z",
     "start_time": "2024-06-09T12:43:46.089680600Z"
    }
   },
   "id": "aa65f9e118ab0617"
  },
  {
   "cell_type": "code",
   "execution_count": 8,
   "outputs": [],
   "source": [
    "# prepare - rescale\n",
    "\n",
    "train_data = train_data.map(preprocess_resnet50)\n",
    "valid_data = valid_data.map(preprocess_resnet50)\n",
    "test_data = test_data.map(preprocess_resnet50)\n",
    "\n",
    "batch_size = 32\n",
    "train_data = train_data.batch(batch_size).prefetch(tf.data.experimental.AUTOTUNE)\n",
    "valid_data = valid_data.batch(batch_size).prefetch(tf.data.experimental.AUTOTUNE)\n",
    "test_data = test_data.batch(batch_size).prefetch(tf.data.experimental.AUTOTUNE)"
   ],
   "metadata": {
    "collapsed": false,
    "ExecuteTime": {
     "end_time": "2024-06-09T12:43:46.511353400Z",
     "start_time": "2024-06-09T12:43:46.384769600Z"
    }
   },
   "id": "ab33ed5bd425b866"
  },
  {
   "cell_type": "code",
   "execution_count": 16,
   "outputs": [],
   "source": [
    "import tensorflow as tf\n",
    "from tensorflow.keras.layers import Conv2D, BatchNormalization, Activation, Add, Input, Dense, GlobalAveragePooling2D, Dropout\n",
    "from tensorflow.keras.models import Model\n",
    "from tensorflow.keras.layers import PReLU, LeakyReLU, ELU\n",
    "\n",
    "def res_block(x, filters, kernel_size=3, stride=1, activation='relu'):\n",
    "    y = Conv2D(filters, kernel_size=kernel_size, strides=stride, padding='same')(x)\n",
    "    y = BatchNormalization()(y)\n",
    "    y = _get_activation_layer(activation)(y)\n",
    "    \n",
    "    y = Conv2D(filters, kernel_size=kernel_size, strides=1, padding='same')(y)\n",
    "    y = BatchNormalization()(y)\n",
    "    \n",
    "    if stride != 1 or x.shape[-1] != filters:\n",
    "        x = Conv2D(filters, kernel_size=1, strides=stride, padding='same')(x)\n",
    "    \n",
    "    out = Add()([x, y])\n",
    "    out = _get_activation_layer(activation)(out)\n",
    "    return out\n",
    "\n",
    "def _get_activation_layer(activation):\n",
    "    if activation == 'relu':\n",
    "        return Activation('relu')\n",
    "    elif activation == 'prelu':\n",
    "        return PReLU()\n",
    "    elif activation == 'elu':\n",
    "        return ELU()\n",
    "    else:\n",
    "        raise ValueError(\"Unsupported activation function: {}\".format(activation))\n",
    "\n",
    "def build_light_resnet50(input_shape, num_classes, activation='relu'):\n",
    "    inputs = Input(shape=input_shape)\n",
    "    x = Conv2D(16, (3, 3), padding='same', strides=1)(inputs)\n",
    "    x = BatchNormalization()(x)\n",
    "    x = _get_activation_layer(activation)(x)\n",
    "    \n",
    "    x = res_block(x, 16, stride=1, activation=activation)\n",
    "    x = res_block(x, 16, stride=1, activation=activation)\n",
    "    \n",
    "    x = res_block(x, 32, stride=2, activation=activation)\n",
    "    x = res_block(x, 32, stride=1, activation=activation)\n",
    "    \n",
    "    x = res_block(x, 64, stride=2, activation=activation)\n",
    "    x = res_block(x, 64, stride=1, activation=activation)\n",
    "    \n",
    "    x = GlobalAveragePooling2D()(x)\n",
    "    x = Dropout(0.5)(x)\n",
    "    outputs = Dense(num_classes, activation='softmax')(x)\n",
    "    \n",
    "    model = Model(inputs, outputs)\n",
    "    return model"
   ],
   "metadata": {
    "collapsed": false,
    "ExecuteTime": {
     "end_time": "2024-06-09T15:06:20.117155900Z",
     "start_time": "2024-06-09T15:06:20.066491900Z"
    }
   },
   "id": "fcfae017869de66a"
  },
  {
   "cell_type": "code",
   "execution_count": 9,
   "outputs": [],
   "source": [
    "# model prepare\n",
    "\n",
    "\n",
    "\n",
    "# from tensorflow.keras.layers import Conv2D, BatchNormalization, Activation, Add, Input, Dense, GlobalAveragePooling2D, Dropout, PReLU, ELU\n",
    "# from tensorflow.keras.models import Model\n",
    "# \n",
    "# \n",
    "# \n",
    "# def res_block(x, filters, kernel_size=3, stride=1, activation='relu'):\n",
    "#     y = Conv2D(filters, kernel_size=kernel_size, strides=stride, padding='same')(x)\n",
    "#     y = BatchNormalization()(y)\n",
    "#     if activation == 'relu':\n",
    "#         y = Activation('relu')(y)\n",
    "#     elif activation == 'prelu':\n",
    "#         y = PReLU()(y)\n",
    "#     elif activation == 'elu':\n",
    "#         y = elu()(y)\n",
    "#     \n",
    "#     y = Conv2D(filters, kernel_size=kernel_size, strides=1, padding='same')(y)\n",
    "#     y = BatchNormalization()(y)\n",
    "#     \n",
    "#     if stride != 1 or x.shape[-1] != filters:\n",
    "#         x = Conv2D(filters, kernel_size=1, strides=stride, padding='same')(x)\n",
    "#     \n",
    "#     out = Add()([x, y])\n",
    "#     out = Activation('relu')(out)\n",
    "#     return out\n",
    "# \n",
    "# def build_light_resnet50(input_shape, num_classes, activation='relu'):\n",
    "#     inputs = Input(shape=input_shape)\n",
    "#     x = Conv2D(16, (3, 3), padding='same', strides=1)(inputs)\n",
    "#     x = BatchNormalization()(x)\n",
    "#     x = Activation('relu')(x)\n",
    "#     \n",
    "#     x = res_block(x, 16, stride=1, activation=activation)\n",
    "#     x = res_block(x, 16, stride=1, activation=activation)\n",
    "#     \n",
    "#     x = res_block(x, 32, stride=2, activation=activation)\n",
    "#     x = res_block(x, 32, stride=1, activation=activation)\n",
    "#     \n",
    "#     x = res_block(x, 64, stride=2, activation=activation)\n",
    "#     x = res_block(x, 64, stride=1, activation=activation)\n",
    "#     \n",
    "#     x = GlobalAveragePooling2D()(x)\n",
    "#     x = Dropout(0.5)(x)\n",
    "#     outputs = Dense(num_classes, activation='softmax')(x)\n",
    "#     \n",
    "#     model = Model(inputs, outputs)\n",
    "#     return model"
   ],
   "metadata": {
    "collapsed": false,
    "ExecuteTime": {
     "end_time": "2024-06-09T12:43:48.113138400Z",
     "start_time": "2024-06-09T12:43:48.054258900Z"
    }
   },
   "id": "43174cb4c80d27e8"
  },
  {
   "cell_type": "code",
   "execution_count": 10,
   "outputs": [
    {
     "name": "stdout",
     "output_type": "stream",
     "text": [
      "Model: \"model\"\n",
      "__________________________________________________________________________________________________\n",
      " Layer (type)                Output Shape                 Param #   Connected to                  \n",
      "==================================================================================================\n",
      " input_1 (InputLayer)        [(None, 32, 32, 3)]          0         []                            \n",
      "                                                                                                  \n",
      " conv2d (Conv2D)             (None, 32, 32, 16)           448       ['input_1[0][0]']             \n",
      "                                                                                                  \n",
      " batch_normalization (Batch  (None, 32, 32, 16)           64        ['conv2d[0][0]']              \n",
      " Normalization)                                                                                   \n",
      "                                                                                                  \n",
      " activation (Activation)     (None, 32, 32, 16)           0         ['batch_normalization[0][0]'] \n",
      "                                                                                                  \n",
      " conv2d_1 (Conv2D)           (None, 32, 32, 16)           2320      ['activation[0][0]']          \n",
      "                                                                                                  \n",
      " batch_normalization_1 (Bat  (None, 32, 32, 16)           64        ['conv2d_1[0][0]']            \n",
      " chNormalization)                                                                                 \n",
      "                                                                                                  \n",
      " activation_1 (Activation)   (None, 32, 32, 16)           0         ['batch_normalization_1[0][0]'\n",
      "                                                                    ]                             \n",
      "                                                                                                  \n",
      " conv2d_2 (Conv2D)           (None, 32, 32, 16)           2320      ['activation_1[0][0]']        \n",
      "                                                                                                  \n",
      " batch_normalization_2 (Bat  (None, 32, 32, 16)           64        ['conv2d_2[0][0]']            \n",
      " chNormalization)                                                                                 \n",
      "                                                                                                  \n",
      " add (Add)                   (None, 32, 32, 16)           0         ['activation[0][0]',          \n",
      "                                                                     'batch_normalization_2[0][0]'\n",
      "                                                                    ]                             \n",
      "                                                                                                  \n",
      " activation_2 (Activation)   (None, 32, 32, 16)           0         ['add[0][0]']                 \n",
      "                                                                                                  \n",
      " conv2d_3 (Conv2D)           (None, 32, 32, 16)           2320      ['activation_2[0][0]']        \n",
      "                                                                                                  \n",
      " batch_normalization_3 (Bat  (None, 32, 32, 16)           64        ['conv2d_3[0][0]']            \n",
      " chNormalization)                                                                                 \n",
      "                                                                                                  \n",
      " activation_3 (Activation)   (None, 32, 32, 16)           0         ['batch_normalization_3[0][0]'\n",
      "                                                                    ]                             \n",
      "                                                                                                  \n",
      " conv2d_4 (Conv2D)           (None, 32, 32, 16)           2320      ['activation_3[0][0]']        \n",
      "                                                                                                  \n",
      " batch_normalization_4 (Bat  (None, 32, 32, 16)           64        ['conv2d_4[0][0]']            \n",
      " chNormalization)                                                                                 \n",
      "                                                                                                  \n",
      " add_1 (Add)                 (None, 32, 32, 16)           0         ['activation_2[0][0]',        \n",
      "                                                                     'batch_normalization_4[0][0]'\n",
      "                                                                    ]                             \n",
      "                                                                                                  \n",
      " activation_4 (Activation)   (None, 32, 32, 16)           0         ['add_1[0][0]']               \n",
      "                                                                                                  \n",
      " conv2d_5 (Conv2D)           (None, 16, 16, 32)           4640      ['activation_4[0][0]']        \n",
      "                                                                                                  \n",
      " batch_normalization_5 (Bat  (None, 16, 16, 32)           128       ['conv2d_5[0][0]']            \n",
      " chNormalization)                                                                                 \n",
      "                                                                                                  \n",
      " activation_5 (Activation)   (None, 16, 16, 32)           0         ['batch_normalization_5[0][0]'\n",
      "                                                                    ]                             \n",
      "                                                                                                  \n",
      " conv2d_6 (Conv2D)           (None, 16, 16, 32)           9248      ['activation_5[0][0]']        \n",
      "                                                                                                  \n",
      " conv2d_7 (Conv2D)           (None, 16, 16, 32)           544       ['activation_4[0][0]']        \n",
      "                                                                                                  \n",
      " batch_normalization_6 (Bat  (None, 16, 16, 32)           128       ['conv2d_6[0][0]']            \n",
      " chNormalization)                                                                                 \n",
      "                                                                                                  \n",
      " add_2 (Add)                 (None, 16, 16, 32)           0         ['conv2d_7[0][0]',            \n",
      "                                                                     'batch_normalization_6[0][0]'\n",
      "                                                                    ]                             \n",
      "                                                                                                  \n",
      " activation_6 (Activation)   (None, 16, 16, 32)           0         ['add_2[0][0]']               \n",
      "                                                                                                  \n",
      " conv2d_8 (Conv2D)           (None, 16, 16, 32)           9248      ['activation_6[0][0]']        \n",
      "                                                                                                  \n",
      " batch_normalization_7 (Bat  (None, 16, 16, 32)           128       ['conv2d_8[0][0]']            \n",
      " chNormalization)                                                                                 \n",
      "                                                                                                  \n",
      " activation_7 (Activation)   (None, 16, 16, 32)           0         ['batch_normalization_7[0][0]'\n",
      "                                                                    ]                             \n",
      "                                                                                                  \n",
      " conv2d_9 (Conv2D)           (None, 16, 16, 32)           9248      ['activation_7[0][0]']        \n",
      "                                                                                                  \n",
      " batch_normalization_8 (Bat  (None, 16, 16, 32)           128       ['conv2d_9[0][0]']            \n",
      " chNormalization)                                                                                 \n",
      "                                                                                                  \n",
      " add_3 (Add)                 (None, 16, 16, 32)           0         ['activation_6[0][0]',        \n",
      "                                                                     'batch_normalization_8[0][0]'\n",
      "                                                                    ]                             \n",
      "                                                                                                  \n",
      " activation_8 (Activation)   (None, 16, 16, 32)           0         ['add_3[0][0]']               \n",
      "                                                                                                  \n",
      " conv2d_10 (Conv2D)          (None, 8, 8, 64)             18496     ['activation_8[0][0]']        \n",
      "                                                                                                  \n",
      " batch_normalization_9 (Bat  (None, 8, 8, 64)             256       ['conv2d_10[0][0]']           \n",
      " chNormalization)                                                                                 \n",
      "                                                                                                  \n",
      " activation_9 (Activation)   (None, 8, 8, 64)             0         ['batch_normalization_9[0][0]'\n",
      "                                                                    ]                             \n",
      "                                                                                                  \n",
      " conv2d_11 (Conv2D)          (None, 8, 8, 64)             36928     ['activation_9[0][0]']        \n",
      "                                                                                                  \n",
      " conv2d_12 (Conv2D)          (None, 8, 8, 64)             2112      ['activation_8[0][0]']        \n",
      "                                                                                                  \n",
      " batch_normalization_10 (Ba  (None, 8, 8, 64)             256       ['conv2d_11[0][0]']           \n",
      " tchNormalization)                                                                                \n",
      "                                                                                                  \n",
      " add_4 (Add)                 (None, 8, 8, 64)             0         ['conv2d_12[0][0]',           \n",
      "                                                                     'batch_normalization_10[0][0]\n",
      "                                                                    ']                            \n",
      "                                                                                                  \n",
      " activation_10 (Activation)  (None, 8, 8, 64)             0         ['add_4[0][0]']               \n",
      "                                                                                                  \n",
      " conv2d_13 (Conv2D)          (None, 8, 8, 64)             36928     ['activation_10[0][0]']       \n",
      "                                                                                                  \n",
      " batch_normalization_11 (Ba  (None, 8, 8, 64)             256       ['conv2d_13[0][0]']           \n",
      " tchNormalization)                                                                                \n",
      "                                                                                                  \n",
      " activation_11 (Activation)  (None, 8, 8, 64)             0         ['batch_normalization_11[0][0]\n",
      "                                                                    ']                            \n",
      "                                                                                                  \n",
      " conv2d_14 (Conv2D)          (None, 8, 8, 64)             36928     ['activation_11[0][0]']       \n",
      "                                                                                                  \n",
      " batch_normalization_12 (Ba  (None, 8, 8, 64)             256       ['conv2d_14[0][0]']           \n",
      " tchNormalization)                                                                                \n",
      "                                                                                                  \n",
      " add_5 (Add)                 (None, 8, 8, 64)             0         ['activation_10[0][0]',       \n",
      "                                                                     'batch_normalization_12[0][0]\n",
      "                                                                    ']                            \n",
      "                                                                                                  \n",
      " activation_12 (Activation)  (None, 8, 8, 64)             0         ['add_5[0][0]']               \n",
      "                                                                                                  \n",
      " global_average_pooling2d (  (None, 64)                   0         ['activation_12[0][0]']       \n",
      " GlobalAveragePooling2D)                                                                          \n",
      "                                                                                                  \n",
      " dropout (Dropout)           (None, 64)                   0         ['global_average_pooling2d[0][\n",
      "                                                                    0]']                          \n",
      "                                                                                                  \n",
      " dense (Dense)               (None, 62)                   4030      ['dropout[0][0]']             \n",
      "                                                                                                  \n",
      "==================================================================================================\n",
      "Total params: 179934 (702.87 KB)\n",
      "Trainable params: 179006 (699.24 KB)\n",
      "Non-trainable params: 928 (3.62 KB)\n",
      "__________________________________________________________________________________________________\n"
     ]
    }
   ],
   "source": [
    "input_shape = (32, 32, 3)\n",
    "num_classes = 62\n",
    "final_model = build_light_resnet50(input_shape, num_classes)\n",
    "final_model.summary()"
   ],
   "metadata": {
    "collapsed": false,
    "ExecuteTime": {
     "end_time": "2024-06-09T12:43:51.065137400Z",
     "start_time": "2024-06-09T12:43:50.530059900Z"
    }
   },
   "id": "8480755602765cdc"
  },
  {
   "cell_type": "code",
   "execution_count": 22,
   "outputs": [],
   "source": [
    "# callbacks & optimizer\n",
    "\n",
    "learning_rate = 0.001\n",
    "\n",
    "early_stopping_cb = tf.keras.callbacks.EarlyStopping(monitor='val_loss',patience=10,\n",
    "                                                     restore_best_weights=True,verbose=1)\n",
    "rlr = tf.keras.callbacks.ReduceLROnPlateau(verbose=1, mode=\"auto\", factor=0.5, patience=5, min_lr=0.00001)\n",
    "callbacks = [early_stopping_cb, rlr]\n",
    "optimizer = tf.keras.optimizers.Adamax(learning_rate=learning_rate)"
   ],
   "metadata": {
    "collapsed": false,
    "ExecuteTime": {
     "end_time": "2024-06-09T15:37:35.367102200Z",
     "start_time": "2024-06-09T15:37:35.325102600Z"
    }
   },
   "id": "c659abdc3396d5f9"
  },
  {
   "cell_type": "code",
   "execution_count": 12,
   "outputs": [
    {
     "name": "stdout",
     "output_type": "stream",
     "text": [
      "Epoch 1/100\n"
     ]
    },
    {
     "name": "stderr",
     "output_type": "stream",
     "text": [
      "2024-06-09 21:44:05.411973: I external/local_xla/xla/stream_executor/cuda/cuda_dnn.cc:454] Loaded cuDNN version 8904\n",
      "2024-06-09 21:44:07.141123: I external/local_xla/xla/service/service.cc:168] XLA service 0x7f4e2dcdf790 initialized for platform CUDA (this does not guarantee that XLA will be used). Devices:\n",
      "2024-06-09 21:44:07.141149: I external/local_xla/xla/service/service.cc:176]   StreamExecutor device (0): NVIDIA GeForce RTX 3070, Compute Capability 8.6\n",
      "2024-06-09 21:44:07.150545: I tensorflow/compiler/mlir/tensorflow/utils/dump_mlir_util.cc:269] disabling MLIR crash reproducer, set env var `MLIR_CRASH_REPRODUCER_DIRECTORY` to enable.\n",
      "WARNING: All log messages before absl::InitializeLog() is called are written to STDERR\n",
      "I0000 00:00:1717937047.218961     713 device_compiler.h:186] Compiled cluster using XLA!  This line is logged at most once for the lifetime of the process.\n"
     ]
    },
    {
     "name": "stdout",
     "output_type": "stream",
     "text": [
      "17449/17449 [==============================] - 222s 12ms/step - loss: 0.8241 - accuracy: 0.7644 - val_loss: 0.4294 - val_accuracy: 0.8458 - lr: 0.0010\n",
      "Epoch 2/100\n",
      "17449/17449 [==============================] - 211s 12ms/step - loss: 0.4985 - accuracy: 0.8352 - val_loss: 0.4141 - val_accuracy: 0.8508 - lr: 0.0010\n",
      "Epoch 3/100\n",
      "17449/17449 [==============================] - 208s 12ms/step - loss: 0.4583 - accuracy: 0.8456 - val_loss: 0.3895 - val_accuracy: 0.8571 - lr: 0.0010\n",
      "Epoch 4/100\n",
      "17449/17449 [==============================] - 212s 12ms/step - loss: 0.4354 - accuracy: 0.8517 - val_loss: 0.3796 - val_accuracy: 0.8614 - lr: 0.0010\n",
      "Epoch 5/100\n",
      "17449/17449 [==============================] - 211s 12ms/step - loss: 0.4216 - accuracy: 0.8551 - val_loss: 0.3779 - val_accuracy: 0.8611 - lr: 0.0010\n",
      "Epoch 6/100\n",
      "17449/17449 [==============================] - 212s 12ms/step - loss: 0.4114 - accuracy: 0.8576 - val_loss: 0.3755 - val_accuracy: 0.8634 - lr: 0.0010\n",
      "Epoch 7/100\n",
      "17449/17449 [==============================] - 210s 12ms/step - loss: 0.4025 - accuracy: 0.8602 - val_loss: 0.3672 - val_accuracy: 0.8659 - lr: 0.0010\n",
      "Epoch 8/100\n",
      "17449/17449 [==============================] - 210s 12ms/step - loss: 0.3966 - accuracy: 0.8617 - val_loss: 0.3656 - val_accuracy: 0.8691 - lr: 0.0010\n",
      "Epoch 9/100\n",
      "17449/17449 [==============================] - 212s 12ms/step - loss: 0.3906 - accuracy: 0.8630 - val_loss: 0.3638 - val_accuracy: 0.8690 - lr: 0.0010\n",
      "Epoch 10/100\n",
      "17449/17449 [==============================] - 212s 12ms/step - loss: 0.3856 - accuracy: 0.8645 - val_loss: 0.3640 - val_accuracy: 0.8699 - lr: 0.0010\n",
      "Epoch 11/100\n",
      "17449/17449 [==============================] - 213s 12ms/step - loss: 0.3811 - accuracy: 0.8655 - val_loss: 0.3619 - val_accuracy: 0.8704 - lr: 0.0010\n",
      "Epoch 12/100\n",
      "17449/17449 [==============================] - 212s 12ms/step - loss: 0.3767 - accuracy: 0.8659 - val_loss: 0.3626 - val_accuracy: 0.8703 - lr: 0.0010\n",
      "Epoch 13/100\n",
      "17449/17449 [==============================] - 209s 12ms/step - loss: 0.3737 - accuracy: 0.8676 - val_loss: 0.3622 - val_accuracy: 0.8714 - lr: 0.0010\n",
      "Epoch 14/100\n",
      "17449/17449 [==============================] - 211s 12ms/step - loss: 0.3704 - accuracy: 0.8681 - val_loss: 0.3648 - val_accuracy: 0.8702 - lr: 0.0010\n",
      "Epoch 15/100\n",
      "17449/17449 [==============================] - 211s 12ms/step - loss: 0.3664 - accuracy: 0.8689 - val_loss: 0.3599 - val_accuracy: 0.8713 - lr: 0.0010\n",
      "Epoch 16/100\n",
      "17449/17449 [==============================] - 210s 12ms/step - loss: 0.3633 - accuracy: 0.8698 - val_loss: 0.3603 - val_accuracy: 0.8714 - lr: 0.0010\n",
      "Epoch 17/100\n",
      "17449/17449 [==============================] - 211s 12ms/step - loss: 0.3610 - accuracy: 0.8701 - val_loss: 0.3625 - val_accuracy: 0.8711 - lr: 0.0010\n",
      "Epoch 18/100\n",
      "17449/17449 [==============================] - 214s 12ms/step - loss: 0.3582 - accuracy: 0.8702 - val_loss: 0.3556 - val_accuracy: 0.8740 - lr: 0.0010\n",
      "Epoch 19/100\n",
      "17449/17449 [==============================] - 214s 12ms/step - loss: 0.3561 - accuracy: 0.8710 - val_loss: 0.3608 - val_accuracy: 0.8728 - lr: 0.0010\n",
      "Epoch 20/100\n",
      "17449/17449 [==============================] - 214s 12ms/step - loss: 0.3534 - accuracy: 0.8718 - val_loss: 0.3600 - val_accuracy: 0.8725 - lr: 0.0010\n",
      "Epoch 21/100\n",
      "17449/17449 [==============================] - 213s 12ms/step - loss: 0.3519 - accuracy: 0.8722 - val_loss: 0.3614 - val_accuracy: 0.8741 - lr: 0.0010\n",
      "Epoch 22/100\n",
      "17449/17449 [==============================] - 214s 12ms/step - loss: 0.3495 - accuracy: 0.8727 - val_loss: 0.3625 - val_accuracy: 0.8724 - lr: 0.0010\n",
      "Epoch 23/100\n",
      "17444/17449 [============================>.] - ETA: 0s - loss: 0.3470 - accuracy: 0.8729\n",
      "Epoch 23: ReduceLROnPlateau reducing learning rate to 0.0005000000237487257.\n",
      "17449/17449 [==============================] - 212s 12ms/step - loss: 0.3470 - accuracy: 0.8729 - val_loss: 0.3632 - val_accuracy: 0.8732 - lr: 0.0010\n",
      "Epoch 24/100\n",
      "17449/17449 [==============================] - 213s 12ms/step - loss: 0.3345 - accuracy: 0.8768 - val_loss: 0.3531 - val_accuracy: 0.8769 - lr: 5.0000e-04\n",
      "Epoch 25/100\n",
      "17449/17449 [==============================] - 213s 12ms/step - loss: 0.3312 - accuracy: 0.8773 - val_loss: 0.3535 - val_accuracy: 0.8768 - lr: 5.0000e-04\n",
      "Epoch 26/100\n",
      "17449/17449 [==============================] - 213s 12ms/step - loss: 0.3294 - accuracy: 0.8775 - val_loss: 0.3547 - val_accuracy: 0.8766 - lr: 5.0000e-04\n",
      "Epoch 27/100\n",
      "17449/17449 [==============================] - 213s 12ms/step - loss: 0.3273 - accuracy: 0.8782 - val_loss: 0.3575 - val_accuracy: 0.8765 - lr: 5.0000e-04\n",
      "Epoch 28/100\n",
      "17449/17449 [==============================] - 215s 12ms/step - loss: 0.3268 - accuracy: 0.8784 - val_loss: 0.3608 - val_accuracy: 0.8757 - lr: 5.0000e-04\n",
      "Epoch 29/100\n",
      "17446/17449 [============================>.] - ETA: 0s - loss: 0.3251 - accuracy: 0.8789\n",
      "Epoch 29: ReduceLROnPlateau reducing learning rate to 0.0002500000118743628.\n",
      "17449/17449 [==============================] - 212s 12ms/step - loss: 0.3251 - accuracy: 0.8789 - val_loss: 0.3588 - val_accuracy: 0.8765 - lr: 5.0000e-04\n",
      "Epoch 30/100\n",
      "17449/17449 [==============================] - 213s 12ms/step - loss: 0.3183 - accuracy: 0.8804 - val_loss: 0.3561 - val_accuracy: 0.8779 - lr: 2.5000e-04\n",
      "Epoch 31/100\n",
      "17449/17449 [==============================] - 215s 12ms/step - loss: 0.3167 - accuracy: 0.8811 - val_loss: 0.3571 - val_accuracy: 0.8776 - lr: 2.5000e-04\n",
      "Epoch 32/100\n",
      "17449/17449 [==============================] - 213s 12ms/step - loss: 0.3153 - accuracy: 0.8811 - val_loss: 0.3585 - val_accuracy: 0.8778 - lr: 2.5000e-04\n",
      "Epoch 33/100\n",
      "17449/17449 [==============================] - 214s 12ms/step - loss: 0.3141 - accuracy: 0.8813 - val_loss: 0.3589 - val_accuracy: 0.8775 - lr: 2.5000e-04\n",
      "Epoch 34/100\n",
      "17446/17449 [============================>.] - ETA: 0s - loss: 0.3138 - accuracy: 0.8816Restoring model weights from the end of the best epoch: 24.\n",
      "\n",
      "Epoch 34: ReduceLROnPlateau reducing learning rate to 0.0001250000059371814.\n",
      "17449/17449 [==============================] - 213s 12ms/step - loss: 0.3138 - accuracy: 0.8816 - val_loss: 0.3607 - val_accuracy: 0.8771 - lr: 2.5000e-04\n",
      "Epoch 34: early stopping\n"
     ]
    }
   ],
   "source": [
    "# training\n",
    "\n",
    "# relu\n",
    "batch_size = 16\n",
    "\n",
    "final_model.compile(optimizer=optimizer, loss='sparse_categorical_crossentropy', metrics=['accuracy'])\n",
    "history = final_model.fit(train_data, epochs=100, validation_data=valid_data, callbacks=callbacks, batch_size=batch_size)"
   ],
   "metadata": {
    "collapsed": false,
    "ExecuteTime": {
     "end_time": "2024-06-09T14:44:25.184878700Z",
     "start_time": "2024-06-09T12:44:03.129361400Z"
    }
   },
   "id": "4ac8b30234ba1b0d"
  },
  {
   "cell_type": "code",
   "execution_count": 19,
   "outputs": [
    {
     "name": "stdout",
     "output_type": "stream",
     "text": [
      "Epoch 1/100\n",
      "17449/17449 [==============================] - 342s 19ms/step - loss: 0.7107 - accuracy: 0.7907 - val_loss: 0.4130 - val_accuracy: 0.8524 - lr: 0.0010\n",
      "Epoch 2/100\n",
      "17449/17449 [==============================] - 343s 20ms/step - loss: 0.4375 - accuracy: 0.8494 - val_loss: 0.3891 - val_accuracy: 0.8601 - lr: 0.0010\n",
      "Epoch 3/100\n",
      "17449/17449 [==============================] - 350s 20ms/step - loss: 0.4052 - accuracy: 0.8575 - val_loss: 0.3768 - val_accuracy: 0.8649 - lr: 0.0010\n",
      "Epoch 4/100\n",
      "17449/17449 [==============================] - 353s 20ms/step - loss: 0.3878 - accuracy: 0.8620 - val_loss: 0.3633 - val_accuracy: 0.8669 - lr: 0.0010\n",
      "Epoch 5/100\n",
      "17449/17449 [==============================] - 357s 20ms/step - loss: 0.3750 - accuracy: 0.8652 - val_loss: 0.3569 - val_accuracy: 0.8708 - lr: 0.0010\n",
      "Epoch 6/100\n",
      "  846/17449 [>.............................] - ETA: 5:12 - loss: 0.3740 - accuracy: 0.8679"
     ]
    },
    {
     "ename": "KeyboardInterrupt",
     "evalue": "",
     "output_type": "error",
     "traceback": [
      "\u001B[0;31m---------------------------------------------------------------------------\u001B[0m",
      "\u001B[0;31mKeyboardInterrupt\u001B[0m                         Traceback (most recent call last)",
      "\u001B[0;32m/tmp/ipykernel_627/369681566.py\u001B[0m in \u001B[0;36m?\u001B[0;34m()\u001B[0m\n\u001B[0;32m----> 8\u001B[0;31m \u001B[0mtf\u001B[0m\u001B[0;34m.\u001B[0m\u001B[0mkeras\u001B[0m\u001B[0;34m.\u001B[0m\u001B[0mbackend\u001B[0m\u001B[0;34m.\u001B[0m\u001B[0mclear_session\u001B[0m\u001B[0;34m(\u001B[0m\u001B[0;34m)\u001B[0m\u001B[0;34m\u001B[0m\u001B[0;34m\u001B[0m\u001B[0m\n\u001B[0m\u001B[1;32m      9\u001B[0m \u001B[0;34m\u001B[0m\u001B[0m\n\u001B[1;32m     10\u001B[0m \u001B[0;31m# prelu\u001B[0m\u001B[0;34m\u001B[0m\u001B[0;34m\u001B[0m\u001B[0m\n\u001B[1;32m     11\u001B[0m \u001B[0;34m\u001B[0m\u001B[0m\n",
      "\u001B[0;32m~/miniconda3/envs/tf/lib/python3.9/site-packages/keras/src/utils/traceback_utils.py\u001B[0m in \u001B[0;36m?\u001B[0;34m(*args, **kwargs)\u001B[0m\n\u001B[1;32m     68\u001B[0m             \u001B[0;31m# To get the full stack trace, call:\u001B[0m\u001B[0;34m\u001B[0m\u001B[0;34m\u001B[0m\u001B[0m\n\u001B[1;32m     69\u001B[0m             \u001B[0;31m# `tf.debugging.disable_traceback_filtering()`\u001B[0m\u001B[0;34m\u001B[0m\u001B[0;34m\u001B[0m\u001B[0m\n\u001B[1;32m     70\u001B[0m             \u001B[0;32mraise\u001B[0m \u001B[0me\u001B[0m\u001B[0;34m.\u001B[0m\u001B[0mwith_traceback\u001B[0m\u001B[0;34m(\u001B[0m\u001B[0mfiltered_tb\u001B[0m\u001B[0;34m)\u001B[0m \u001B[0;32mfrom\u001B[0m \u001B[0;32mNone\u001B[0m\u001B[0;34m\u001B[0m\u001B[0;34m\u001B[0m\u001B[0m\n\u001B[1;32m     71\u001B[0m         \u001B[0;32mfinally\u001B[0m\u001B[0;34m:\u001B[0m\u001B[0;34m\u001B[0m\u001B[0;34m\u001B[0m\u001B[0m\n\u001B[0;32m---> 72\u001B[0;31m             \u001B[0;32mdel\u001B[0m \u001B[0mfiltered_tb\u001B[0m\u001B[0;34m\u001B[0m\u001B[0;34m\u001B[0m\u001B[0m\n\u001B[0m",
      "\u001B[0;32m~/miniconda3/envs/tf/lib/python3.9/site-packages/keras/src/engine/training.py\u001B[0m in \u001B[0;36m?\u001B[0;34m(self, x, y, batch_size, epochs, verbose, callbacks, validation_split, validation_data, shuffle, class_weight, sample_weight, initial_epoch, steps_per_epoch, validation_steps, validation_batch_size, validation_freq, max_queue_size, workers, use_multiprocessing)\u001B[0m\n\u001B[1;32m   1886\u001B[0m                 \u001B[0;32mdel\u001B[0m \u001B[0mself\u001B[0m\u001B[0;34m.\u001B[0m\u001B[0m_eval_data_handler\u001B[0m\u001B[0;34m\u001B[0m\u001B[0;34m\u001B[0m\u001B[0m\n\u001B[1;32m   1887\u001B[0m             \u001B[0;32mif\u001B[0m \u001B[0mself\u001B[0m\u001B[0;34m.\u001B[0m\u001B[0mautotune_steps_per_execution\u001B[0m\u001B[0;34m:\u001B[0m\u001B[0;34m\u001B[0m\u001B[0;34m\u001B[0m\u001B[0m\n\u001B[1;32m   1888\u001B[0m                 \u001B[0mself\u001B[0m\u001B[0;34m.\u001B[0m\u001B[0m_steps_per_execution_tuner\u001B[0m\u001B[0;34m.\u001B[0m\u001B[0mstop\u001B[0m\u001B[0;34m(\u001B[0m\u001B[0;34m)\u001B[0m\u001B[0;34m\u001B[0m\u001B[0;34m\u001B[0m\u001B[0m\n\u001B[1;32m   1889\u001B[0m             \u001B[0mcallbacks\u001B[0m\u001B[0;34m.\u001B[0m\u001B[0mon_train_end\u001B[0m\u001B[0;34m(\u001B[0m\u001B[0mlogs\u001B[0m\u001B[0;34m=\u001B[0m\u001B[0mtraining_logs\u001B[0m\u001B[0;34m)\u001B[0m\u001B[0;34m\u001B[0m\u001B[0;34m\u001B[0m\u001B[0m\n\u001B[0;32m-> 1890\u001B[0;31m             \u001B[0;32mreturn\u001B[0m \u001B[0mself\u001B[0m\u001B[0;34m.\u001B[0m\u001B[0mhistory\u001B[0m\u001B[0;34m\u001B[0m\u001B[0;34m\u001B[0m\u001B[0m\n\u001B[0m",
      "\u001B[0;32m~/miniconda3/envs/tf/lib/python3.9/site-packages/keras/src/engine/data_adapter.py\u001B[0m in \u001B[0;36m?\u001B[0;34m(self)\u001B[0m\n\u001B[1;32m   1407\u001B[0m             \u001B[0;32mor\u001B[0m \u001B[0mself\u001B[0m\u001B[0;34m.\u001B[0m\u001B[0m_current_step\u001B[0m \u001B[0;34m<\u001B[0m \u001B[0mself\u001B[0m\u001B[0;34m.\u001B[0m\u001B[0m_inferred_steps\u001B[0m\u001B[0;34m\u001B[0m\u001B[0;34m\u001B[0m\u001B[0m\n\u001B[1;32m   1408\u001B[0m         ):\n\u001B[1;32m   1409\u001B[0m             \u001B[0;32mif\u001B[0m \u001B[0mself\u001B[0m\u001B[0;34m.\u001B[0m\u001B[0m_insufficient_data\u001B[0m\u001B[0;34m:\u001B[0m  \u001B[0;31m# Set by `catch_stop_iteration`.\u001B[0m\u001B[0;34m\u001B[0m\u001B[0;34m\u001B[0m\u001B[0m\n\u001B[1;32m   1410\u001B[0m                 \u001B[0;32mbreak\u001B[0m\u001B[0;34m\u001B[0m\u001B[0;34m\u001B[0m\u001B[0m\n\u001B[0;32m-> 1411\u001B[0;31m             \u001B[0moriginal_spe\u001B[0m \u001B[0;34m=\u001B[0m \u001B[0mself\u001B[0m\u001B[0;34m.\u001B[0m\u001B[0m_steps_per_execution\u001B[0m\u001B[0;34m.\u001B[0m\u001B[0mnumpy\u001B[0m\u001B[0;34m(\u001B[0m\u001B[0;34m)\u001B[0m\u001B[0;34m.\u001B[0m\u001B[0mitem\u001B[0m\u001B[0;34m(\u001B[0m\u001B[0;34m)\u001B[0m\u001B[0;34m\u001B[0m\u001B[0;34m\u001B[0m\u001B[0m\n\u001B[0m\u001B[1;32m   1412\u001B[0m             can_run_full_execution = (\n\u001B[1;32m   1413\u001B[0m                 \u001B[0moriginal_spe\u001B[0m \u001B[0;34m==\u001B[0m \u001B[0;36m1\u001B[0m\u001B[0;34m\u001B[0m\u001B[0;34m\u001B[0m\u001B[0m\n\u001B[1;32m   1414\u001B[0m                 \u001B[0;32mor\u001B[0m \u001B[0mself\u001B[0m\u001B[0;34m.\u001B[0m\u001B[0m_inferred_steps\u001B[0m \u001B[0;32mis\u001B[0m \u001B[0;32mNone\u001B[0m\u001B[0;34m\u001B[0m\u001B[0;34m\u001B[0m\u001B[0m\n",
      "\u001B[0;32m~/miniconda3/envs/tf/lib/python3.9/site-packages/tensorflow/python/ops/resource_variable_ops.py\u001B[0m in \u001B[0;36m?\u001B[0;34m(self)\u001B[0m\n\u001B[1;32m    687\u001B[0m   \u001B[0;32mdef\u001B[0m \u001B[0mnumpy\u001B[0m\u001B[0;34m(\u001B[0m\u001B[0mself\u001B[0m\u001B[0;34m)\u001B[0m\u001B[0;34m:\u001B[0m\u001B[0;34m\u001B[0m\u001B[0;34m\u001B[0m\u001B[0m\n\u001B[1;32m    688\u001B[0m     \u001B[0;32mif\u001B[0m \u001B[0mcontext\u001B[0m\u001B[0;34m.\u001B[0m\u001B[0mexecuting_eagerly\u001B[0m\u001B[0;34m(\u001B[0m\u001B[0;34m)\u001B[0m\u001B[0;34m:\u001B[0m\u001B[0;34m\u001B[0m\u001B[0;34m\u001B[0m\u001B[0m\n\u001B[0;32m--> 689\u001B[0;31m       \u001B[0;32mreturn\u001B[0m \u001B[0mself\u001B[0m\u001B[0;34m.\u001B[0m\u001B[0mread_value\u001B[0m\u001B[0;34m(\u001B[0m\u001B[0;34m)\u001B[0m\u001B[0;34m.\u001B[0m\u001B[0mnumpy\u001B[0m\u001B[0;34m(\u001B[0m\u001B[0;34m)\u001B[0m\u001B[0;34m\u001B[0m\u001B[0;34m\u001B[0m\u001B[0m\n\u001B[0m\u001B[1;32m    690\u001B[0m     raise NotImplementedError(\n\u001B[1;32m    691\u001B[0m         \"numpy() is only available when eager execution is enabled.\")\n",
      "\u001B[0;32m~/miniconda3/envs/tf/lib/python3.9/site-packages/tensorflow/python/ops/resource_variable_ops.py\u001B[0m in \u001B[0;36m?\u001B[0;34m(self)\u001B[0m\n\u001B[1;32m    838\u001B[0m     \u001B[0;32mwith\u001B[0m \u001B[0mops\u001B[0m\u001B[0;34m.\u001B[0m\u001B[0mname_scope\u001B[0m\u001B[0;34m(\u001B[0m\u001B[0;34m\"Read\"\u001B[0m\u001B[0;34m)\u001B[0m\u001B[0;34m:\u001B[0m\u001B[0;34m\u001B[0m\u001B[0;34m\u001B[0m\u001B[0m\n\u001B[1;32m    839\u001B[0m       \u001B[0mvalue\u001B[0m \u001B[0;34m=\u001B[0m \u001B[0mself\u001B[0m\u001B[0;34m.\u001B[0m\u001B[0m_read_variable_op\u001B[0m\u001B[0;34m(\u001B[0m\u001B[0;34m)\u001B[0m\u001B[0;34m\u001B[0m\u001B[0;34m\u001B[0m\u001B[0m\n\u001B[1;32m    840\u001B[0m     \u001B[0;31m# Return an identity so it can get placed on whatever device the context\u001B[0m\u001B[0;34m\u001B[0m\u001B[0;34m\u001B[0m\u001B[0m\n\u001B[1;32m    841\u001B[0m     \u001B[0;31m# specifies instead of the device where the variable is.\u001B[0m\u001B[0;34m\u001B[0m\u001B[0;34m\u001B[0m\u001B[0m\n\u001B[0;32m--> 842\u001B[0;31m     \u001B[0;32mreturn\u001B[0m \u001B[0marray_ops\u001B[0m\u001B[0;34m.\u001B[0m\u001B[0midentity\u001B[0m\u001B[0;34m(\u001B[0m\u001B[0mvalue\u001B[0m\u001B[0;34m)\u001B[0m\u001B[0;34m\u001B[0m\u001B[0;34m\u001B[0m\u001B[0m\n\u001B[0m",
      "\u001B[0;32m~/miniconda3/envs/tf/lib/python3.9/site-packages/tensorflow/python/ops/weak_tensor_ops.py\u001B[0m in \u001B[0;36m?\u001B[0;34m(*args, **kwargs)\u001B[0m\n\u001B[1;32m     86\u001B[0m   \u001B[0;32mdef\u001B[0m \u001B[0mwrapper\u001B[0m\u001B[0;34m(\u001B[0m\u001B[0;34m*\u001B[0m\u001B[0margs\u001B[0m\u001B[0;34m,\u001B[0m \u001B[0;34m**\u001B[0m\u001B[0mkwargs\u001B[0m\u001B[0;34m)\u001B[0m\u001B[0;34m:\u001B[0m\u001B[0;34m\u001B[0m\u001B[0;34m\u001B[0m\u001B[0m\n\u001B[1;32m     87\u001B[0m     \u001B[0;32mif\u001B[0m \u001B[0;32mnot\u001B[0m \u001B[0mops\u001B[0m\u001B[0;34m.\u001B[0m\u001B[0mis_auto_dtype_conversion_enabled\u001B[0m\u001B[0;34m(\u001B[0m\u001B[0;34m)\u001B[0m\u001B[0;34m:\u001B[0m\u001B[0;34m\u001B[0m\u001B[0;34m\u001B[0m\u001B[0m\n\u001B[0;32m---> 88\u001B[0;31m       \u001B[0;32mreturn\u001B[0m \u001B[0mop\u001B[0m\u001B[0;34m(\u001B[0m\u001B[0;34m*\u001B[0m\u001B[0margs\u001B[0m\u001B[0;34m,\u001B[0m \u001B[0;34m**\u001B[0m\u001B[0mkwargs\u001B[0m\u001B[0;34m)\u001B[0m\u001B[0;34m\u001B[0m\u001B[0;34m\u001B[0m\u001B[0m\n\u001B[0m\u001B[1;32m     89\u001B[0m     \u001B[0mbound_arguments\u001B[0m \u001B[0;34m=\u001B[0m \u001B[0msignature\u001B[0m\u001B[0;34m.\u001B[0m\u001B[0mbind\u001B[0m\u001B[0;34m(\u001B[0m\u001B[0;34m*\u001B[0m\u001B[0margs\u001B[0m\u001B[0;34m,\u001B[0m \u001B[0;34m**\u001B[0m\u001B[0mkwargs\u001B[0m\u001B[0;34m)\u001B[0m\u001B[0;34m\u001B[0m\u001B[0;34m\u001B[0m\u001B[0m\n\u001B[1;32m     90\u001B[0m     \u001B[0mbound_arguments\u001B[0m\u001B[0;34m.\u001B[0m\u001B[0mapply_defaults\u001B[0m\u001B[0;34m(\u001B[0m\u001B[0;34m)\u001B[0m\u001B[0;34m\u001B[0m\u001B[0;34m\u001B[0m\u001B[0m\n\u001B[1;32m     91\u001B[0m     \u001B[0mbound_kwargs\u001B[0m \u001B[0;34m=\u001B[0m \u001B[0mbound_arguments\u001B[0m\u001B[0;34m.\u001B[0m\u001B[0marguments\u001B[0m\u001B[0;34m\u001B[0m\u001B[0;34m\u001B[0m\u001B[0m\n",
      "\u001B[0;32m~/miniconda3/envs/tf/lib/python3.9/site-packages/tensorflow/python/util/traceback_utils.py\u001B[0m in \u001B[0;36m?\u001B[0;34m(*args, **kwargs)\u001B[0m\n\u001B[1;32m    151\u001B[0m     \u001B[0;32mexcept\u001B[0m \u001B[0mException\u001B[0m \u001B[0;32mas\u001B[0m \u001B[0me\u001B[0m\u001B[0;34m:\u001B[0m\u001B[0;34m\u001B[0m\u001B[0;34m\u001B[0m\u001B[0m\n\u001B[1;32m    152\u001B[0m       \u001B[0mfiltered_tb\u001B[0m \u001B[0;34m=\u001B[0m \u001B[0m_process_traceback_frames\u001B[0m\u001B[0;34m(\u001B[0m\u001B[0me\u001B[0m\u001B[0;34m.\u001B[0m\u001B[0m__traceback__\u001B[0m\u001B[0;34m)\u001B[0m\u001B[0;34m\u001B[0m\u001B[0;34m\u001B[0m\u001B[0m\n\u001B[1;32m    153\u001B[0m       \u001B[0;32mraise\u001B[0m \u001B[0me\u001B[0m\u001B[0;34m.\u001B[0m\u001B[0mwith_traceback\u001B[0m\u001B[0;34m(\u001B[0m\u001B[0mfiltered_tb\u001B[0m\u001B[0;34m)\u001B[0m \u001B[0;32mfrom\u001B[0m \u001B[0;32mNone\u001B[0m\u001B[0;34m\u001B[0m\u001B[0;34m\u001B[0m\u001B[0m\n\u001B[1;32m    154\u001B[0m     \u001B[0;32mfinally\u001B[0m\u001B[0;34m:\u001B[0m\u001B[0;34m\u001B[0m\u001B[0;34m\u001B[0m\u001B[0m\n\u001B[0;32m--> 155\u001B[0;31m       \u001B[0;32mdel\u001B[0m \u001B[0mfiltered_tb\u001B[0m\u001B[0;34m\u001B[0m\u001B[0;34m\u001B[0m\u001B[0m\n\u001B[0m",
      "\u001B[0;32m~/miniconda3/envs/tf/lib/python3.9/site-packages/tensorflow/python/util/dispatch.py\u001B[0m in \u001B[0;36m?\u001B[0;34m(*args, **kwargs)\u001B[0m\n\u001B[1;32m   1264\u001B[0m         \u001B[0mresult\u001B[0m \u001B[0;34m=\u001B[0m \u001B[0mdispatch\u001B[0m\u001B[0;34m(\u001B[0m\u001B[0mop_dispatch_handler\u001B[0m\u001B[0;34m,\u001B[0m \u001B[0margs\u001B[0m\u001B[0;34m,\u001B[0m \u001B[0mkwargs\u001B[0m\u001B[0;34m)\u001B[0m\u001B[0;34m\u001B[0m\u001B[0;34m\u001B[0m\u001B[0m\n\u001B[1;32m   1265\u001B[0m         \u001B[0;32mif\u001B[0m \u001B[0mresult\u001B[0m \u001B[0;32mis\u001B[0m \u001B[0;32mnot\u001B[0m \u001B[0mOpDispatcher\u001B[0m\u001B[0;34m.\u001B[0m\u001B[0mNOT_SUPPORTED\u001B[0m\u001B[0;34m:\u001B[0m\u001B[0;34m\u001B[0m\u001B[0;34m\u001B[0m\u001B[0m\n\u001B[1;32m   1266\u001B[0m           \u001B[0;32mreturn\u001B[0m \u001B[0mresult\u001B[0m\u001B[0;34m\u001B[0m\u001B[0;34m\u001B[0m\u001B[0m\n\u001B[1;32m   1267\u001B[0m         \u001B[0;32melse\u001B[0m\u001B[0;34m:\u001B[0m\u001B[0;34m\u001B[0m\u001B[0;34m\u001B[0m\u001B[0m\n\u001B[0;32m-> 1268\u001B[0;31m           \u001B[0;32mraise\u001B[0m\u001B[0;34m\u001B[0m\u001B[0;34m\u001B[0m\u001B[0m\n\u001B[0m",
      "\u001B[0;32m~/miniconda3/envs/tf/lib/python3.9/site-packages/tensorflow/python/ops/array_ops.py\u001B[0m in \u001B[0;36m?\u001B[0;34m(input, name)\u001B[0m\n\u001B[1;32m    308\u001B[0m   \u001B[0;32mif\u001B[0m \u001B[0mcontext\u001B[0m\u001B[0;34m.\u001B[0m\u001B[0mexecuting_eagerly\u001B[0m\u001B[0;34m(\u001B[0m\u001B[0;34m)\u001B[0m \u001B[0;32mand\u001B[0m \u001B[0;32mnot\u001B[0m \u001B[0mhasattr\u001B[0m\u001B[0;34m(\u001B[0m\u001B[0minput\u001B[0m\u001B[0;34m,\u001B[0m \u001B[0;34m\"graph\"\u001B[0m\u001B[0;34m)\u001B[0m\u001B[0;34m:\u001B[0m\u001B[0;34m\u001B[0m\u001B[0;34m\u001B[0m\u001B[0m\n\u001B[1;32m    309\u001B[0m     \u001B[0;31m# Make sure we get an input with handle data attached from resource\u001B[0m\u001B[0;34m\u001B[0m\u001B[0;34m\u001B[0m\u001B[0m\n\u001B[1;32m    310\u001B[0m     \u001B[0;31m# variables. Variables have correct handle data when graph building.\u001B[0m\u001B[0;34m\u001B[0m\u001B[0;34m\u001B[0m\u001B[0m\n\u001B[1;32m    311\u001B[0m     \u001B[0minput\u001B[0m \u001B[0;34m=\u001B[0m \u001B[0mops\u001B[0m\u001B[0;34m.\u001B[0m\u001B[0mconvert_to_tensor\u001B[0m\u001B[0;34m(\u001B[0m\u001B[0minput\u001B[0m\u001B[0;34m)\u001B[0m\u001B[0;34m\u001B[0m\u001B[0;34m\u001B[0m\u001B[0m\n\u001B[0;32m--> 312\u001B[0;31m   \u001B[0mret\u001B[0m \u001B[0;34m=\u001B[0m \u001B[0mgen_array_ops\u001B[0m\u001B[0;34m.\u001B[0m\u001B[0midentity\u001B[0m\u001B[0;34m(\u001B[0m\u001B[0minput\u001B[0m\u001B[0;34m,\u001B[0m \u001B[0mname\u001B[0m\u001B[0;34m=\u001B[0m\u001B[0mname\u001B[0m\u001B[0;34m)\u001B[0m\u001B[0;34m\u001B[0m\u001B[0;34m\u001B[0m\u001B[0m\n\u001B[0m\u001B[1;32m    313\u001B[0m   \u001B[0;31m# Propagate handle data for happier shape inference for resource variables.\u001B[0m\u001B[0;34m\u001B[0m\u001B[0;34m\u001B[0m\u001B[0m\n\u001B[1;32m    314\u001B[0m   \u001B[0;32mif\u001B[0m \u001B[0mhasattr\u001B[0m\u001B[0;34m(\u001B[0m\u001B[0minput\u001B[0m\u001B[0;34m,\u001B[0m \u001B[0;34m\"_handle_data\"\u001B[0m\u001B[0;34m)\u001B[0m\u001B[0;34m:\u001B[0m\u001B[0;34m\u001B[0m\u001B[0;34m\u001B[0m\u001B[0m\n\u001B[1;32m    315\u001B[0m     \u001B[0mret\u001B[0m\u001B[0;34m.\u001B[0m\u001B[0m_handle_data\u001B[0m \u001B[0;34m=\u001B[0m \u001B[0minput\u001B[0m\u001B[0;34m.\u001B[0m\u001B[0m_handle_data\u001B[0m  \u001B[0;31m# pylint: disable=protected-access\u001B[0m\u001B[0;34m\u001B[0m\u001B[0;34m\u001B[0m\u001B[0m\n",
      "\u001B[0;32m~/miniconda3/envs/tf/lib/python3.9/site-packages/tensorflow/python/ops/gen_array_ops.py\u001B[0m in \u001B[0;36m?\u001B[0;34m(input, name)\u001B[0m\n\u001B[1;32m   4186\u001B[0m       \u001B[0;32mreturn\u001B[0m \u001B[0m_result\u001B[0m\u001B[0;34m\u001B[0m\u001B[0;34m\u001B[0m\u001B[0m\n\u001B[1;32m   4187\u001B[0m     \u001B[0;32mexcept\u001B[0m \u001B[0m_core\u001B[0m\u001B[0;34m.\u001B[0m\u001B[0m_NotOkStatusException\u001B[0m \u001B[0;32mas\u001B[0m \u001B[0me\u001B[0m\u001B[0;34m:\u001B[0m\u001B[0;34m\u001B[0m\u001B[0;34m\u001B[0m\u001B[0m\n\u001B[1;32m   4188\u001B[0m       \u001B[0m_ops\u001B[0m\u001B[0;34m.\u001B[0m\u001B[0mraise_from_not_ok_status\u001B[0m\u001B[0;34m(\u001B[0m\u001B[0me\u001B[0m\u001B[0;34m,\u001B[0m \u001B[0mname\u001B[0m\u001B[0;34m)\u001B[0m\u001B[0;34m\u001B[0m\u001B[0;34m\u001B[0m\u001B[0m\n\u001B[1;32m   4189\u001B[0m     \u001B[0;32mexcept\u001B[0m \u001B[0m_core\u001B[0m\u001B[0;34m.\u001B[0m\u001B[0m_FallbackException\u001B[0m\u001B[0;34m:\u001B[0m\u001B[0;34m\u001B[0m\u001B[0;34m\u001B[0m\u001B[0m\n\u001B[0;32m-> 4190\u001B[0;31m       \u001B[0;32mpass\u001B[0m\u001B[0;34m\u001B[0m\u001B[0;34m\u001B[0m\u001B[0m\n\u001B[0m\u001B[1;32m   4191\u001B[0m     \u001B[0;32mtry\u001B[0m\u001B[0;34m:\u001B[0m\u001B[0;34m\u001B[0m\u001B[0;34m\u001B[0m\u001B[0m\n\u001B[1;32m   4192\u001B[0m       return identity_eager_fallback(\n\u001B[1;32m   4193\u001B[0m           input, name=name, ctx=_ctx)\n",
      "\u001B[0;31mKeyboardInterrupt\u001B[0m: "
     ]
    }
   ],
   "source": [
    "tf.keras.backend.clear_session()\n",
    "\n",
    "learning_rate = 0.001\n",
    "\n",
    "early_stopping_cb = tf.keras.callbacks.EarlyStopping(monitor='val_loss',patience=10,\n",
    "                                                     restore_best_weights=True,verbose=1)\n",
    "rlr = tf.keras.callbacks.ReduceLROnPlateau(verbose=1, mode=\"auto\", factor=0.5, patience=5, min_lr=0.00001)\n",
    "callbacks = [early_stopping_cb, rlr]\n",
    "optimizer = tf.keras.optimizers.Adamax(learning_rate=learning_rate)\n",
    "\n",
    "# prelu\n",
    "\n",
    "final_model_2 = build_light_resnet50(input_shape, num_classes, activation='prelu')\n",
    "\n",
    "final_model_2.compile(optimizer=optimizer, loss='sparse_categorical_crossentropy', metrics=['accuracy'])\n",
    "history_2 = final_model_2.fit(train_data, epochs=100, validation_data=valid_data, callbacks=callbacks, batch_size=batch_size)"
   ],
   "metadata": {
    "collapsed": false,
    "ExecuteTime": {
     "end_time": "2024-06-09T15:36:09.002925400Z",
     "start_time": "2024-06-09T15:06:47.053973200Z"
    }
   },
   "id": "caac20cec2b7b6d2"
  },
  {
   "cell_type": "markdown",
   "source": [
    "속도가 350s으로 많이 느려서 도중에 탈락시킴"
   ],
   "metadata": {
    "collapsed": false
   },
   "id": "625e2ccf7873696"
  },
  {
   "cell_type": "code",
   "execution_count": 23,
   "outputs": [
    {
     "name": "stdout",
     "output_type": "stream",
     "text": [
      "Epoch 1/100\n",
      "17449/17449 [==============================] - 217s 12ms/step - loss: 0.7692 - accuracy: 0.7743 - val_loss: 0.4356 - val_accuracy: 0.8466 - lr: 0.0010\n",
      "Epoch 2/100\n",
      "17449/17449 [==============================] - 213s 12ms/step - loss: 0.4761 - accuracy: 0.8392 - val_loss: 0.3992 - val_accuracy: 0.8519 - lr: 0.0010\n",
      "Epoch 3/100\n",
      "17449/17449 [==============================] - 216s 12ms/step - loss: 0.4389 - accuracy: 0.8487 - val_loss: 0.3769 - val_accuracy: 0.8635 - lr: 0.0010\n",
      "Epoch 4/100\n",
      "17449/17449 [==============================] - 220s 13ms/step - loss: 0.4194 - accuracy: 0.8535 - val_loss: 0.3729 - val_accuracy: 0.8625 - lr: 0.0010\n",
      "Epoch 5/100\n",
      "17449/17449 [==============================] - 217s 12ms/step - loss: 0.4065 - accuracy: 0.8572 - val_loss: 0.3647 - val_accuracy: 0.8666 - lr: 0.0010\n",
      "Epoch 6/100\n",
      "17449/17449 [==============================] - 217s 12ms/step - loss: 0.3974 - accuracy: 0.8594 - val_loss: 0.3616 - val_accuracy: 0.8672 - lr: 0.0010\n",
      "Epoch 7/100\n",
      "17449/17449 [==============================] - 217s 12ms/step - loss: 0.3891 - accuracy: 0.8615 - val_loss: 0.3551 - val_accuracy: 0.8696 - lr: 0.0010\n",
      "Epoch 8/100\n",
      "17449/17449 [==============================] - 217s 12ms/step - loss: 0.3832 - accuracy: 0.8627 - val_loss: 0.3574 - val_accuracy: 0.8681 - lr: 0.0010\n",
      "Epoch 9/100\n",
      "17449/17449 [==============================] - 217s 12ms/step - loss: 0.3776 - accuracy: 0.8646 - val_loss: 0.3528 - val_accuracy: 0.8691 - lr: 0.0010\n",
      "Epoch 10/100\n",
      "17449/17449 [==============================] - 218s 12ms/step - loss: 0.3734 - accuracy: 0.8657 - val_loss: 0.3538 - val_accuracy: 0.8699 - lr: 0.0010\n",
      "Epoch 11/100\n",
      "17449/17449 [==============================] - 218s 12ms/step - loss: 0.3684 - accuracy: 0.8668 - val_loss: 0.3504 - val_accuracy: 0.8709 - lr: 0.0010\n",
      "Epoch 12/100\n",
      "17449/17449 [==============================] - 218s 13ms/step - loss: 0.3652 - accuracy: 0.8679 - val_loss: 0.3480 - val_accuracy: 0.8718 - lr: 0.0010\n",
      "Epoch 13/100\n",
      "17449/17449 [==============================] - 219s 13ms/step - loss: 0.3617 - accuracy: 0.8689 - val_loss: 0.3464 - val_accuracy: 0.8730 - lr: 0.0010\n",
      "Epoch 14/100\n",
      "17449/17449 [==============================] - 218s 13ms/step - loss: 0.3588 - accuracy: 0.8694 - val_loss: 0.3422 - val_accuracy: 0.8755 - lr: 0.0010\n",
      "Epoch 15/100\n",
      "17449/17449 [==============================] - 218s 13ms/step - loss: 0.3562 - accuracy: 0.8703 - val_loss: 0.3481 - val_accuracy: 0.8719 - lr: 0.0010\n",
      "Epoch 16/100\n",
      "17449/17449 [==============================] - 216s 12ms/step - loss: 0.3531 - accuracy: 0.8708 - val_loss: 0.3413 - val_accuracy: 0.8753 - lr: 0.0010\n",
      "Epoch 17/100\n",
      "17449/17449 [==============================] - 215s 12ms/step - loss: 0.3505 - accuracy: 0.8720 - val_loss: 0.3416 - val_accuracy: 0.8745 - lr: 0.0010\n",
      "Epoch 18/100\n",
      "17449/17449 [==============================] - 215s 12ms/step - loss: 0.3486 - accuracy: 0.8725 - val_loss: 0.3427 - val_accuracy: 0.8741 - lr: 0.0010\n",
      "Epoch 19/100\n",
      "17449/17449 [==============================] - 218s 12ms/step - loss: 0.3458 - accuracy: 0.8732 - val_loss: 0.3409 - val_accuracy: 0.8754 - lr: 0.0010\n",
      "Epoch 20/100\n",
      "17449/17449 [==============================] - 216s 12ms/step - loss: 0.3439 - accuracy: 0.8739 - val_loss: 0.3391 - val_accuracy: 0.8760 - lr: 0.0010\n",
      "Epoch 21/100\n",
      "17449/17449 [==============================] - 216s 12ms/step - loss: 0.3417 - accuracy: 0.8744 - val_loss: 0.3381 - val_accuracy: 0.8765 - lr: 0.0010\n",
      "Epoch 22/100\n",
      "17449/17449 [==============================] - 217s 12ms/step - loss: 0.3393 - accuracy: 0.8750 - val_loss: 0.3411 - val_accuracy: 0.8747 - lr: 0.0010\n",
      "Epoch 23/100\n",
      "17449/17449 [==============================] - 217s 12ms/step - loss: 0.3380 - accuracy: 0.8755 - val_loss: 0.3384 - val_accuracy: 0.8758 - lr: 0.0010\n",
      "Epoch 24/100\n",
      "17449/17449 [==============================] - 215s 12ms/step - loss: 0.3358 - accuracy: 0.8761 - val_loss: 0.3394 - val_accuracy: 0.8761 - lr: 0.0010\n",
      "Epoch 25/100\n",
      "17449/17449 [==============================] - 215s 12ms/step - loss: 0.3342 - accuracy: 0.8764 - val_loss: 0.3360 - val_accuracy: 0.8769 - lr: 0.0010\n",
      "Epoch 26/100\n",
      "17449/17449 [==============================] - 215s 12ms/step - loss: 0.3324 - accuracy: 0.8770 - val_loss: 0.3390 - val_accuracy: 0.8766 - lr: 0.0010\n",
      "Epoch 27/100\n",
      "17449/17449 [==============================] - 216s 12ms/step - loss: 0.3303 - accuracy: 0.8775 - val_loss: 0.3376 - val_accuracy: 0.8772 - lr: 0.0010\n",
      "Epoch 28/100\n",
      "17449/17449 [==============================] - 216s 12ms/step - loss: 0.3287 - accuracy: 0.8781 - val_loss: 0.3393 - val_accuracy: 0.8764 - lr: 0.0010\n",
      "Epoch 29/100\n",
      "17449/17449 [==============================] - 215s 12ms/step - loss: 0.3271 - accuracy: 0.8784 - val_loss: 0.3401 - val_accuracy: 0.8767 - lr: 0.0010\n",
      "Epoch 30/100\n",
      "17447/17449 [============================>.] - ETA: 0s - loss: 0.3256 - accuracy: 0.8786\n",
      "Epoch 30: ReduceLROnPlateau reducing learning rate to 0.0005000000237487257.\n",
      "17449/17449 [==============================] - 218s 13ms/step - loss: 0.3256 - accuracy: 0.8786 - val_loss: 0.3401 - val_accuracy: 0.8758 - lr: 0.0010\n",
      "Epoch 31/100\n",
      "17449/17449 [==============================] - 219s 13ms/step - loss: 0.3139 - accuracy: 0.8829 - val_loss: 0.3335 - val_accuracy: 0.8790 - lr: 5.0000e-04\n",
      "Epoch 32/100\n",
      "17449/17449 [==============================] - 219s 13ms/step - loss: 0.3113 - accuracy: 0.8832 - val_loss: 0.3336 - val_accuracy: 0.8790 - lr: 5.0000e-04\n",
      "Epoch 33/100\n",
      "17449/17449 [==============================] - 219s 13ms/step - loss: 0.3096 - accuracy: 0.8839 - val_loss: 0.3350 - val_accuracy: 0.8787 - lr: 5.0000e-04\n",
      "Epoch 34/100\n",
      "17449/17449 [==============================] - 218s 13ms/step - loss: 0.3095 - accuracy: 0.8839 - val_loss: 0.3340 - val_accuracy: 0.8790 - lr: 5.0000e-04\n",
      "Epoch 35/100\n",
      "17449/17449 [==============================] - 219s 13ms/step - loss: 0.3078 - accuracy: 0.8842 - val_loss: 0.3343 - val_accuracy: 0.8784 - lr: 5.0000e-04\n",
      "Epoch 36/100\n",
      "17448/17449 [============================>.] - ETA: 0s - loss: 0.3069 - accuracy: 0.8843\n",
      "Epoch 36: ReduceLROnPlateau reducing learning rate to 0.0002500000118743628.\n",
      "17449/17449 [==============================] - 217s 12ms/step - loss: 0.3069 - accuracy: 0.8843 - val_loss: 0.3358 - val_accuracy: 0.8784 - lr: 5.0000e-04\n",
      "Epoch 37/100\n",
      "17449/17449 [==============================] - 214s 12ms/step - loss: 0.3006 - accuracy: 0.8866 - val_loss: 0.3331 - val_accuracy: 0.8791 - lr: 2.5000e-04\n",
      "Epoch 38/100\n",
      "17449/17449 [==============================] - 215s 12ms/step - loss: 0.2982 - accuracy: 0.8872 - val_loss: 0.3341 - val_accuracy: 0.8792 - lr: 2.5000e-04\n",
      "Epoch 39/100\n",
      "17449/17449 [==============================] - 218s 13ms/step - loss: 0.2982 - accuracy: 0.8873 - val_loss: 0.3346 - val_accuracy: 0.8793 - lr: 2.5000e-04\n",
      "Epoch 40/100\n",
      "17449/17449 [==============================] - 216s 12ms/step - loss: 0.2975 - accuracy: 0.8877 - val_loss: 0.3350 - val_accuracy: 0.8789 - lr: 2.5000e-04\n",
      "Epoch 41/100\n",
      "17449/17449 [==============================] - 217s 12ms/step - loss: 0.2967 - accuracy: 0.8877 - val_loss: 0.3349 - val_accuracy: 0.8794 - lr: 2.5000e-04\n",
      "Epoch 42/100\n",
      "17445/17449 [============================>.] - ETA: 0s - loss: 0.2964 - accuracy: 0.8878\n",
      "Epoch 42: ReduceLROnPlateau reducing learning rate to 0.0001250000059371814.\n",
      "17449/17449 [==============================] - 218s 12ms/step - loss: 0.2963 - accuracy: 0.8878 - val_loss: 0.3354 - val_accuracy: 0.8791 - lr: 2.5000e-04\n",
      "Epoch 43/100\n",
      "17449/17449 [==============================] - 217s 12ms/step - loss: 0.2929 - accuracy: 0.8891 - val_loss: 0.3338 - val_accuracy: 0.8795 - lr: 1.2500e-04\n",
      "Epoch 44/100\n",
      "17449/17449 [==============================] - 218s 12ms/step - loss: 0.2914 - accuracy: 0.8894 - val_loss: 0.3343 - val_accuracy: 0.8796 - lr: 1.2500e-04\n",
      "Epoch 45/100\n",
      "17449/17449 [==============================] - 216s 12ms/step - loss: 0.2914 - accuracy: 0.8895 - val_loss: 0.3345 - val_accuracy: 0.8794 - lr: 1.2500e-04\n",
      "Epoch 46/100\n",
      "17449/17449 [==============================] - 221s 13ms/step - loss: 0.2907 - accuracy: 0.8894 - val_loss: 0.3354 - val_accuracy: 0.8793 - lr: 1.2500e-04\n",
      "Epoch 47/100\n",
      "17446/17449 [============================>.] - ETA: 0s - loss: 0.2903 - accuracy: 0.8900Restoring model weights from the end of the best epoch: 37.\n",
      "\n",
      "Epoch 47: ReduceLROnPlateau reducing learning rate to 6.25000029685907e-05.\n",
      "17449/17449 [==============================] - 220s 13ms/step - loss: 0.2903 - accuracy: 0.8900 - val_loss: 0.3356 - val_accuracy: 0.8790 - lr: 1.2500e-04\n",
      "Epoch 47: early stopping\n"
     ]
    }
   ],
   "source": [
    "tf.keras.backend.clear_session()\n",
    "\n",
    "learning_rate = 0.001\n",
    "\n",
    "early_stopping_cb = tf.keras.callbacks.EarlyStopping(monitor='val_loss',patience=10,\n",
    "                                                     restore_best_weights=True,verbose=1)\n",
    "rlr = tf.keras.callbacks.ReduceLROnPlateau(verbose=1, mode=\"auto\", factor=0.5, patience=5, min_lr=0.00001)\n",
    "callbacks = [early_stopping_cb, rlr]\n",
    "optimizer = tf.keras.optimizers.Adamax(learning_rate=learning_rate)\n",
    "\n",
    "# elu\n",
    "\n",
    "final_model_3 = build_light_resnet50(input_shape, num_classes, activation='elu')\n",
    "\n",
    "final_model_3.compile(optimizer=optimizer, loss='sparse_categorical_crossentropy', metrics=['accuracy'])\n",
    "history_3 = final_model_3.fit(train_data, epochs=100, validation_data=valid_data, callbacks=callbacks, batch_size=batch_size)"
   ],
   "metadata": {
    "collapsed": false,
    "ExecuteTime": {
     "end_time": "2024-06-09T18:28:14.307108300Z",
     "start_time": "2024-06-09T15:38:09.776629300Z"
    }
   },
   "id": "6bab725dea4574c2"
  },
  {
   "cell_type": "code",
   "execution_count": 31,
   "outputs": [
    {
     "name": "stdout",
     "output_type": "stream",
     "text": [
      "4363/4363 [==============================] - 22s 5ms/step - loss: 0.3531 - accuracy: 0.8769\n"
     ]
    },
    {
     "data": {
      "text/plain": "[0.35309937596321106, 0.8768787980079651]"
     },
     "execution_count": 31,
     "metadata": {},
     "output_type": "execute_result"
    }
   ],
   "source": [
    "final_model.evaluate(valid_data)"
   ],
   "metadata": {
    "collapsed": false,
    "ExecuteTime": {
     "end_time": "2024-06-09T18:35:29.132305100Z",
     "start_time": "2024-06-09T18:35:07.132410Z"
    }
   },
   "id": "c485ff30e802ca05"
  },
  {
   "cell_type": "code",
   "execution_count": 32,
   "outputs": [
    {
     "name": "stdout",
     "output_type": "stream",
     "text": [
      "4363/4363 [==============================] - 25s 6ms/step - loss: 0.3331 - accuracy: 0.8791\n"
     ]
    },
    {
     "data": {
      "text/plain": "[0.333129346370697, 0.8791067600250244]"
     },
     "execution_count": 32,
     "metadata": {},
     "output_type": "execute_result"
    }
   ],
   "source": [
    "final_model_3.evaluate(valid_data)"
   ],
   "metadata": {
    "collapsed": false,
    "ExecuteTime": {
     "end_time": "2024-06-09T18:36:14.027283500Z",
     "start_time": "2024-06-09T18:35:49.114141400Z"
    }
   },
   "id": "b3d2641631d65c4"
  },
  {
   "cell_type": "code",
   "execution_count": 34,
   "outputs": [
    {
     "data": {
      "text/plain": "<Figure size 640x480 with 1 Axes>",
      "image/png": "[encoded data removed]"
     },
     "metadata": {},
     "output_type": "display_data"
    }
   ],
   "source": [
    "# compare\n",
    "\n",
    "import matplotlib.pyplot as plt\n",
    "\n",
    "plt.plot(history.history['val_accuracy'], label='relu')\n",
    "plt.plot(history_3.history['val_accuracy'], label = 'elu')\n",
    "plt.xlabel('Epoch')\n",
    "plt.ylabel('val_accuracy')\n",
    "plt.legend(loc='lower right')\n",
    "plt.show()"
   ],
   "metadata": {
    "collapsed": false,
    "ExecuteTime": {
     "end_time": "2024-06-09T18:40:15.695373500Z",
     "start_time": "2024-06-09T18:40:15.593313900Z"
    }
   },
   "id": "89388071d717d338"
  },
  {
   "cell_type": "code",
   "execution_count": 35,
   "outputs": [
    {
     "data": {
      "text/plain": "<Figure size 640x480 with 1 Axes>",
      "image/png": "[encoded data removed]"
     },
     "metadata": {},
     "output_type": "display_data"
    }
   ],
   "source": [
    "plt.plot(history.history['val_loss'], label='relu')\n",
    "plt.plot(history_3.history['val_loss'], label = 'elu')\n",
    "plt.xlabel('Epoch')\n",
    "plt.ylabel('val_loss')\n",
    "plt.legend(loc='upper right')\n",
    "plt.show()"
   ],
   "metadata": {
    "collapsed": false,
    "ExecuteTime": {
     "end_time": "2024-06-09T18:41:27.229726100Z",
     "start_time": "2024-06-09T18:41:27.125954900Z"
    }
   },
   "id": "ea5635f92f8b7c8e"
  },
  {
   "cell_type": "code",
   "execution_count": 26,
   "outputs": [
    {
     "data": {
      "text/plain": "<Figure size 640x480 with 1 Axes>",
      "image/png": "[encoded data removed]"
     },
     "metadata": {},
     "output_type": "display_data"
    }
   ],
   "source": [
    "# check overfit\n",
    "\n",
    "plt.plot(history_3.history['accuracy'], label='accuracy')\n",
    "plt.plot(history_3.history['val_accuracy'], label = 'val_accuracy')\n",
    "plt.xlabel('Epoch')\n",
    "plt.ylabel('Accuracy')\n",
    "plt.legend(loc='lower right')\n",
    "plt.show()"
   ],
   "metadata": {
    "collapsed": false,
    "ExecuteTime": {
     "end_time": "2024-06-09T18:32:38.968404900Z",
     "start_time": "2024-06-09T18:32:38.869109200Z"
    }
   },
   "id": "1de7bf7ab0d84516"
  },
  {
   "cell_type": "code",
   "execution_count": 27,
   "outputs": [
    {
     "data": {
      "text/plain": "<Figure size 640x480 with 1 Axes>",
      "image/png": "[encoded data removed]"
     },
     "metadata": {},
     "output_type": "display_data"
    }
   ],
   "source": [
    "plt.plot(history_3.history['loss'], label='loss')\n",
    "plt.plot(history_3.history['val_loss'], label = 'val_loss')\n",
    "plt.xlabel('Epoch')\n",
    "plt.ylabel('Accuracy')\n",
    "plt.legend(loc='upper right')\n",
    "plt.show()"
   ],
   "metadata": {
    "collapsed": false,
    "ExecuteTime": {
     "end_time": "2024-06-09T18:33:09.413246300Z",
     "start_time": "2024-06-09T18:33:09.313476400Z"
    }
   },
   "id": "41a2888e11f5a112"
  },
  {
   "cell_type": "code",
   "execution_count": 36,
   "outputs": [
    {
     "name": "stdout",
     "output_type": "stream",
     "text": [
      "3636/3636 [==============================] - 21s 6ms/step - loss: 0.3341 - accuracy: 0.8783\n",
      "Test Loss: 0.334, Test Accuracy: 0.878\n"
     ]
    }
   ],
   "source": [
    "# model test data evaluate\n",
    "\n",
    "model_loss, model_acc = final_model_3.evaluate(test_data)\n",
    "print(f\"Test Loss: {np.round(model_loss,3)}, Test Accuracy: {np.round(model_acc,3)}\")"
   ],
   "metadata": {
    "collapsed": false,
    "ExecuteTime": {
     "end_time": "2024-06-09T18:44:02.181431800Z",
     "start_time": "2024-06-09T18:43:41.116544900Z"
    }
   },
   "id": "36d2a3fe038b3f1c"
  },
  {
   "cell_type": "code",
   "execution_count": 37,
   "outputs": [],
   "source": [
    "# model save\n",
    "\n",
    "from pathlib import Path\n",
    "\n",
    "MODEL_PATH = Path() / \"models\" / \"final\"\n",
    "MODEL_PATH.mkdir(parents=True, exist_ok=True)\n",
    "\n",
    "final_model.save(MODEL_PATH / \"final_model.keras\")"
   ],
   "metadata": {
    "collapsed": false,
    "ExecuteTime": {
     "end_time": "2024-06-09T18:44:49.644950Z",
     "start_time": "2024-06-09T18:44:49.500323600Z"
    }
   },
   "id": "b69d43d6ef64e20e"
  },
  {
   "cell_type": "code",
   "execution_count": null,
   "outputs": [],
   "source": [],
   "metadata": {
    "collapsed": false
   },
   "id": "4db930b32d556635"
  }
 ],
 "metadata": {
  "kernelspec": {
   "display_name": "Python 3",
   "language": "python",
   "name": "python3"
  },
  "language_info": {
   "codemirror_mode": {
    "name": "ipython",
    "version": 2
   },
   "file_extension": ".py",
   "mimetype": "text/x-python",
   "name": "python",
   "nbconvert_exporter": "python",
   "pygments_lexer": "ipython2",
   "version": "2.7.6"
  }
 },
 "nbformat": 4,
 "nbformat_minor": 5
}
